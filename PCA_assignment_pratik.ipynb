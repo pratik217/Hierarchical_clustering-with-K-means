{
 "cells": [
  {
   "cell_type": "markdown",
   "metadata": {},
   "source": [
    "CEO of the NGO needs to decide how to use the money strategically and effectively. The significant issues that come while making this decision are mostly related to choosing the countries that are in the direst need of aid. \n"
   ]
  },
  {
   "cell_type": "code",
   "execution_count": null,
   "metadata": {},
   "outputs": [],
   "source": [
    "## categorise the countries using some socio-economic and health factors that determine the overall development of the country. Then need to suggest the countries which the CEO needs to focus on the most."
   ]
  },
  {
   "cell_type": "code",
   "execution_count": 2,
   "metadata": {},
   "outputs": [],
   "source": [
    "\n",
    "import pandas as pd\n",
    "import numpy as np\n",
    "import matplotlib.pyplot as plt\n",
    "import seaborn as sns\n",
    "%matplotlib inline\n",
    "\n",
    "from sklearn.preprocessing import scale\n",
    "\n",
    "\n",
    "from sklearn.cluster import KMeans\n",
    "\n",
    "# To perform Hierarchical clustering\n",
    "from scipy.cluster.hierarchy import linkage\n",
    "from scipy.cluster.hierarchy import dendrogram\n",
    "from scipy.cluster.hierarchy import cut_tree"
   ]
  },
  {
   "cell_type": "code",
   "execution_count": null,
   "metadata": {},
   "outputs": [],
   "source": [
    "\n",
    "\n"
   ]
  },
  {
   "cell_type": "code",
   "execution_count": null,
   "metadata": {},
   "outputs": [],
   "source": []
  },
  {
   "cell_type": "code",
   "execution_count": null,
   "metadata": {},
   "outputs": [],
   "source": []
  },
  {
   "cell_type": "code",
   "execution_count": 3,
   "metadata": {},
   "outputs": [
    {
     "data": {
      "text/html": [
       "<div>\n",
       "<style scoped>\n",
       "    .dataframe tbody tr th:only-of-type {\n",
       "        vertical-align: middle;\n",
       "    }\n",
       "\n",
       "    .dataframe tbody tr th {\n",
       "        vertical-align: top;\n",
       "    }\n",
       "\n",
       "    .dataframe thead th {\n",
       "        text-align: right;\n",
       "    }\n",
       "</style>\n",
       "<table border=\"1\" class=\"dataframe\">\n",
       "  <thead>\n",
       "    <tr style=\"text-align: right;\">\n",
       "      <th></th>\n",
       "      <th>country</th>\n",
       "      <th>child_mort</th>\n",
       "      <th>exports</th>\n",
       "      <th>health</th>\n",
       "      <th>imports</th>\n",
       "      <th>income</th>\n",
       "      <th>inflation</th>\n",
       "      <th>life_expec</th>\n",
       "      <th>total_fer</th>\n",
       "      <th>gdpp</th>\n",
       "    </tr>\n",
       "  </thead>\n",
       "  <tbody>\n",
       "    <tr>\n",
       "      <th>0</th>\n",
       "      <td>Afghanistan</td>\n",
       "      <td>90.2</td>\n",
       "      <td>10.0</td>\n",
       "      <td>7.58</td>\n",
       "      <td>44.9</td>\n",
       "      <td>1610</td>\n",
       "      <td>9.44</td>\n",
       "      <td>56.2</td>\n",
       "      <td>5.82</td>\n",
       "      <td>553</td>\n",
       "    </tr>\n",
       "    <tr>\n",
       "      <th>1</th>\n",
       "      <td>Albania</td>\n",
       "      <td>16.6</td>\n",
       "      <td>28.0</td>\n",
       "      <td>6.55</td>\n",
       "      <td>48.6</td>\n",
       "      <td>9930</td>\n",
       "      <td>4.49</td>\n",
       "      <td>76.3</td>\n",
       "      <td>1.65</td>\n",
       "      <td>4090</td>\n",
       "    </tr>\n",
       "    <tr>\n",
       "      <th>2</th>\n",
       "      <td>Algeria</td>\n",
       "      <td>27.3</td>\n",
       "      <td>38.4</td>\n",
       "      <td>4.17</td>\n",
       "      <td>31.4</td>\n",
       "      <td>12900</td>\n",
       "      <td>16.10</td>\n",
       "      <td>76.5</td>\n",
       "      <td>2.89</td>\n",
       "      <td>4460</td>\n",
       "    </tr>\n",
       "    <tr>\n",
       "      <th>3</th>\n",
       "      <td>Angola</td>\n",
       "      <td>119.0</td>\n",
       "      <td>62.3</td>\n",
       "      <td>2.85</td>\n",
       "      <td>42.9</td>\n",
       "      <td>5900</td>\n",
       "      <td>22.40</td>\n",
       "      <td>60.1</td>\n",
       "      <td>6.16</td>\n",
       "      <td>3530</td>\n",
       "    </tr>\n",
       "    <tr>\n",
       "      <th>4</th>\n",
       "      <td>Antigua and Barbuda</td>\n",
       "      <td>10.3</td>\n",
       "      <td>45.5</td>\n",
       "      <td>6.03</td>\n",
       "      <td>58.9</td>\n",
       "      <td>19100</td>\n",
       "      <td>1.44</td>\n",
       "      <td>76.8</td>\n",
       "      <td>2.13</td>\n",
       "      <td>12200</td>\n",
       "    </tr>\n",
       "  </tbody>\n",
       "</table>\n",
       "</div>"
      ],
      "text/plain": [
       "               country  child_mort  exports  health  imports  income  \\\n",
       "0          Afghanistan        90.2     10.0    7.58     44.9    1610   \n",
       "1              Albania        16.6     28.0    6.55     48.6    9930   \n",
       "2              Algeria        27.3     38.4    4.17     31.4   12900   \n",
       "3               Angola       119.0     62.3    2.85     42.9    5900   \n",
       "4  Antigua and Barbuda        10.3     45.5    6.03     58.9   19100   \n",
       "\n",
       "   inflation  life_expec  total_fer   gdpp  \n",
       "0       9.44        56.2       5.82    553  \n",
       "1       4.49        76.3       1.65   4090  \n",
       "2      16.10        76.5       2.89   4460  \n",
       "3      22.40        60.1       6.16   3530  \n",
       "4       1.44        76.8       2.13  12200  "
      ]
     },
     "execution_count": 3,
     "metadata": {},
     "output_type": "execute_result"
    }
   ],
   "source": [
    "## Load data\n",
    "c_data = pd.read_csv('Country-data.csv')\n",
    "c_data.head()"
   ]
  },
  {
   "cell_type": "markdown",
   "metadata": {},
   "source": [
    "### Investigate data"
   ]
  },
  {
   "cell_type": "code",
   "execution_count": 4,
   "metadata": {},
   "outputs": [
    {
     "name": "stdout",
     "output_type": "stream",
     "text": [
      "<class 'pandas.core.frame.DataFrame'>\n",
      "RangeIndex: 167 entries, 0 to 166\n",
      "Data columns (total 10 columns):\n",
      "country       167 non-null object\n",
      "child_mort    167 non-null float64\n",
      "exports       167 non-null float64\n",
      "health        167 non-null float64\n",
      "imports       167 non-null float64\n",
      "income        167 non-null int64\n",
      "inflation     167 non-null float64\n",
      "life_expec    167 non-null float64\n",
      "total_fer     167 non-null float64\n",
      "gdpp          167 non-null int64\n",
      "dtypes: float64(7), int64(2), object(1)\n",
      "memory usage: 13.1+ KB\n"
     ]
    }
   ],
   "source": [
    "c_data.info()"
   ]
  },
  {
   "cell_type": "code",
   "execution_count": 5,
   "metadata": {},
   "outputs": [
    {
     "data": {
      "text/html": [
       "<div>\n",
       "<style scoped>\n",
       "    .dataframe tbody tr th:only-of-type {\n",
       "        vertical-align: middle;\n",
       "    }\n",
       "\n",
       "    .dataframe tbody tr th {\n",
       "        vertical-align: top;\n",
       "    }\n",
       "\n",
       "    .dataframe thead th {\n",
       "        text-align: right;\n",
       "    }\n",
       "</style>\n",
       "<table border=\"1\" class=\"dataframe\">\n",
       "  <thead>\n",
       "    <tr style=\"text-align: right;\">\n",
       "      <th></th>\n",
       "      <th>child_mort</th>\n",
       "      <th>exports</th>\n",
       "      <th>health</th>\n",
       "      <th>imports</th>\n",
       "      <th>income</th>\n",
       "      <th>inflation</th>\n",
       "      <th>life_expec</th>\n",
       "      <th>total_fer</th>\n",
       "      <th>gdpp</th>\n",
       "    </tr>\n",
       "  </thead>\n",
       "  <tbody>\n",
       "    <tr>\n",
       "      <th>count</th>\n",
       "      <td>167.000000</td>\n",
       "      <td>167.000000</td>\n",
       "      <td>167.000000</td>\n",
       "      <td>167.000000</td>\n",
       "      <td>167.000000</td>\n",
       "      <td>167.000000</td>\n",
       "      <td>167.000000</td>\n",
       "      <td>167.000000</td>\n",
       "      <td>167.000000</td>\n",
       "    </tr>\n",
       "    <tr>\n",
       "      <th>mean</th>\n",
       "      <td>38.270060</td>\n",
       "      <td>41.108976</td>\n",
       "      <td>6.815689</td>\n",
       "      <td>46.890215</td>\n",
       "      <td>17144.688623</td>\n",
       "      <td>7.781832</td>\n",
       "      <td>70.555689</td>\n",
       "      <td>2.947964</td>\n",
       "      <td>12964.155689</td>\n",
       "    </tr>\n",
       "    <tr>\n",
       "      <th>std</th>\n",
       "      <td>40.328931</td>\n",
       "      <td>27.412010</td>\n",
       "      <td>2.746837</td>\n",
       "      <td>24.209589</td>\n",
       "      <td>19278.067698</td>\n",
       "      <td>10.570704</td>\n",
       "      <td>8.893172</td>\n",
       "      <td>1.513848</td>\n",
       "      <td>18328.704809</td>\n",
       "    </tr>\n",
       "    <tr>\n",
       "      <th>min</th>\n",
       "      <td>2.600000</td>\n",
       "      <td>0.109000</td>\n",
       "      <td>1.810000</td>\n",
       "      <td>0.065900</td>\n",
       "      <td>609.000000</td>\n",
       "      <td>-4.210000</td>\n",
       "      <td>32.100000</td>\n",
       "      <td>1.150000</td>\n",
       "      <td>231.000000</td>\n",
       "    </tr>\n",
       "    <tr>\n",
       "      <th>0%</th>\n",
       "      <td>2.600000</td>\n",
       "      <td>0.109000</td>\n",
       "      <td>1.810000</td>\n",
       "      <td>0.065900</td>\n",
       "      <td>609.000000</td>\n",
       "      <td>-4.210000</td>\n",
       "      <td>32.100000</td>\n",
       "      <td>1.150000</td>\n",
       "      <td>231.000000</td>\n",
       "    </tr>\n",
       "    <tr>\n",
       "      <th>5%</th>\n",
       "      <td>3.460000</td>\n",
       "      <td>12.120000</td>\n",
       "      <td>2.791000</td>\n",
       "      <td>18.130000</td>\n",
       "      <td>1213.000000</td>\n",
       "      <td>0.183400</td>\n",
       "      <td>55.780000</td>\n",
       "      <td>1.390000</td>\n",
       "      <td>465.900000</td>\n",
       "    </tr>\n",
       "    <tr>\n",
       "      <th>10%</th>\n",
       "      <td>4.200000</td>\n",
       "      <td>15.660000</td>\n",
       "      <td>3.726000</td>\n",
       "      <td>22.520000</td>\n",
       "      <td>1524.000000</td>\n",
       "      <td>0.587800</td>\n",
       "      <td>57.820000</td>\n",
       "      <td>1.452000</td>\n",
       "      <td>593.800000</td>\n",
       "    </tr>\n",
       "    <tr>\n",
       "      <th>20%</th>\n",
       "      <td>6.320000</td>\n",
       "      <td>22.120000</td>\n",
       "      <td>4.486000</td>\n",
       "      <td>28.020000</td>\n",
       "      <td>2548.000000</td>\n",
       "      <td>1.408000</td>\n",
       "      <td>61.880000</td>\n",
       "      <td>1.630000</td>\n",
       "      <td>1146.000000</td>\n",
       "    </tr>\n",
       "    <tr>\n",
       "      <th>40%</th>\n",
       "      <td>15.280000</td>\n",
       "      <td>29.580000</td>\n",
       "      <td>5.668000</td>\n",
       "      <td>37.280000</td>\n",
       "      <td>7320.000000</td>\n",
       "      <td>3.700000</td>\n",
       "      <td>70.060000</td>\n",
       "      <td>2.144000</td>\n",
       "      <td>3262.000000</td>\n",
       "    </tr>\n",
       "    <tr>\n",
       "      <th>50%</th>\n",
       "      <td>19.300000</td>\n",
       "      <td>35.000000</td>\n",
       "      <td>6.320000</td>\n",
       "      <td>43.300000</td>\n",
       "      <td>9960.000000</td>\n",
       "      <td>5.390000</td>\n",
       "      <td>73.100000</td>\n",
       "      <td>2.410000</td>\n",
       "      <td>4660.000000</td>\n",
       "    </tr>\n",
       "    <tr>\n",
       "      <th>60%</th>\n",
       "      <td>29.160000</td>\n",
       "      <td>40.160000</td>\n",
       "      <td>7.036000</td>\n",
       "      <td>49.160000</td>\n",
       "      <td>14980.000000</td>\n",
       "      <td>6.964000</td>\n",
       "      <td>74.560000</td>\n",
       "      <td>2.670000</td>\n",
       "      <td>7334.000000</td>\n",
       "    </tr>\n",
       "    <tr>\n",
       "      <th>80%</th>\n",
       "      <td>66.320000</td>\n",
       "      <td>54.940000</td>\n",
       "      <td>9.118000</td>\n",
       "      <td>61.680000</td>\n",
       "      <td>29420.000000</td>\n",
       "      <td>12.500000</td>\n",
       "      <td>78.200000</td>\n",
       "      <td>4.592000</td>\n",
       "      <td>21020.000000</td>\n",
       "    </tr>\n",
       "    <tr>\n",
       "      <th>90%</th>\n",
       "      <td>100.220000</td>\n",
       "      <td>70.800000</td>\n",
       "      <td>10.940000</td>\n",
       "      <td>75.420000</td>\n",
       "      <td>41220.000000</td>\n",
       "      <td>16.640000</td>\n",
       "      <td>80.400000</td>\n",
       "      <td>5.322000</td>\n",
       "      <td>41840.000000</td>\n",
       "    </tr>\n",
       "    <tr>\n",
       "      <th>95%</th>\n",
       "      <td>116.000000</td>\n",
       "      <td>80.570000</td>\n",
       "      <td>11.570000</td>\n",
       "      <td>81.140000</td>\n",
       "      <td>48290.000000</td>\n",
       "      <td>20.870000</td>\n",
       "      <td>81.400000</td>\n",
       "      <td>5.861000</td>\n",
       "      <td>48610.000000</td>\n",
       "    </tr>\n",
       "    <tr>\n",
       "      <th>97%</th>\n",
       "      <td>130.140000</td>\n",
       "      <td>87.038000</td>\n",
       "      <td>11.802000</td>\n",
       "      <td>92.768000</td>\n",
       "      <td>62496.000000</td>\n",
       "      <td>23.626000</td>\n",
       "      <td>81.902000</td>\n",
       "      <td>6.230600</td>\n",
       "      <td>52218.000000</td>\n",
       "    </tr>\n",
       "    <tr>\n",
       "      <th>99%</th>\n",
       "      <td>153.400000</td>\n",
       "      <td>160.480000</td>\n",
       "      <td>13.474000</td>\n",
       "      <td>146.080000</td>\n",
       "      <td>84374.000000</td>\n",
       "      <td>41.478000</td>\n",
       "      <td>82.370000</td>\n",
       "      <td>6.563600</td>\n",
       "      <td>79088.000000</td>\n",
       "    </tr>\n",
       "    <tr>\n",
       "      <th>100%</th>\n",
       "      <td>208.000000</td>\n",
       "      <td>200.000000</td>\n",
       "      <td>17.900000</td>\n",
       "      <td>174.000000</td>\n",
       "      <td>125000.000000</td>\n",
       "      <td>104.000000</td>\n",
       "      <td>82.800000</td>\n",
       "      <td>7.490000</td>\n",
       "      <td>105000.000000</td>\n",
       "    </tr>\n",
       "    <tr>\n",
       "      <th>max</th>\n",
       "      <td>208.000000</td>\n",
       "      <td>200.000000</td>\n",
       "      <td>17.900000</td>\n",
       "      <td>174.000000</td>\n",
       "      <td>125000.000000</td>\n",
       "      <td>104.000000</td>\n",
       "      <td>82.800000</td>\n",
       "      <td>7.490000</td>\n",
       "      <td>105000.000000</td>\n",
       "    </tr>\n",
       "  </tbody>\n",
       "</table>\n",
       "</div>"
      ],
      "text/plain": [
       "       child_mort     exports      health     imports         income  \\\n",
       "count  167.000000  167.000000  167.000000  167.000000     167.000000   \n",
       "mean    38.270060   41.108976    6.815689   46.890215   17144.688623   \n",
       "std     40.328931   27.412010    2.746837   24.209589   19278.067698   \n",
       "min      2.600000    0.109000    1.810000    0.065900     609.000000   \n",
       "0%       2.600000    0.109000    1.810000    0.065900     609.000000   \n",
       "5%       3.460000   12.120000    2.791000   18.130000    1213.000000   \n",
       "10%      4.200000   15.660000    3.726000   22.520000    1524.000000   \n",
       "20%      6.320000   22.120000    4.486000   28.020000    2548.000000   \n",
       "40%     15.280000   29.580000    5.668000   37.280000    7320.000000   \n",
       "50%     19.300000   35.000000    6.320000   43.300000    9960.000000   \n",
       "60%     29.160000   40.160000    7.036000   49.160000   14980.000000   \n",
       "80%     66.320000   54.940000    9.118000   61.680000   29420.000000   \n",
       "90%    100.220000   70.800000   10.940000   75.420000   41220.000000   \n",
       "95%    116.000000   80.570000   11.570000   81.140000   48290.000000   \n",
       "97%    130.140000   87.038000   11.802000   92.768000   62496.000000   \n",
       "99%    153.400000  160.480000   13.474000  146.080000   84374.000000   \n",
       "100%   208.000000  200.000000   17.900000  174.000000  125000.000000   \n",
       "max    208.000000  200.000000   17.900000  174.000000  125000.000000   \n",
       "\n",
       "        inflation  life_expec   total_fer           gdpp  \n",
       "count  167.000000  167.000000  167.000000     167.000000  \n",
       "mean     7.781832   70.555689    2.947964   12964.155689  \n",
       "std     10.570704    8.893172    1.513848   18328.704809  \n",
       "min     -4.210000   32.100000    1.150000     231.000000  \n",
       "0%      -4.210000   32.100000    1.150000     231.000000  \n",
       "5%       0.183400   55.780000    1.390000     465.900000  \n",
       "10%      0.587800   57.820000    1.452000     593.800000  \n",
       "20%      1.408000   61.880000    1.630000    1146.000000  \n",
       "40%      3.700000   70.060000    2.144000    3262.000000  \n",
       "50%      5.390000   73.100000    2.410000    4660.000000  \n",
       "60%      6.964000   74.560000    2.670000    7334.000000  \n",
       "80%     12.500000   78.200000    4.592000   21020.000000  \n",
       "90%     16.640000   80.400000    5.322000   41840.000000  \n",
       "95%     20.870000   81.400000    5.861000   48610.000000  \n",
       "97%     23.626000   81.902000    6.230600   52218.000000  \n",
       "99%     41.478000   82.370000    6.563600   79088.000000  \n",
       "100%   104.000000   82.800000    7.490000  105000.000000  \n",
       "max    104.000000   82.800000    7.490000  105000.000000  "
      ]
     },
     "execution_count": 5,
     "metadata": {},
     "output_type": "execute_result"
    }
   ],
   "source": [
    "## Investigate dataframe \"c_data\"\n",
    "# percentile list \n",
    "perc =[0.0,.05,.1,.20, .40, .60, .80,.90,.95,.97,.99,1] \n",
    "# list of dtypes to include \n",
    "#include =['float', 'int'] \n",
    "# calling describe method\n",
    "c_data.describe(percentiles = perc)"
   ]
  },
  {
   "cell_type": "code",
   "execution_count": 6,
   "metadata": {},
   "outputs": [
    {
     "name": "stdout",
     "output_type": "stream",
     "text": [
      "(167, 10)\n",
      "Index(['country', 'child_mort', 'exports', 'health', 'imports', 'income',\n",
      "       'inflation', 'life_expec', 'total_fer', 'gdpp'],\n",
      "      dtype='object')\n"
     ]
    }
   ],
   "source": [
    "print(c_data.shape)\n",
    "print(c_data.columns)"
   ]
  },
  {
   "cell_type": "code",
   "execution_count": 7,
   "metadata": {},
   "outputs": [
    {
     "data": {
      "text/plain": [
       "country       0\n",
       "child_mort    0\n",
       "exports       0\n",
       "health        0\n",
       "imports       0\n",
       "income        0\n",
       "inflation     0\n",
       "life_expec    0\n",
       "total_fer     0\n",
       "gdpp          0\n",
       "dtype: int64"
      ]
     },
     "execution_count": 7,
     "metadata": {},
     "output_type": "execute_result"
    }
   ],
   "source": [
    "#Checking for Missing Values\n",
    "c_data.isnull().sum(axis=0)"
   ]
  },
  {
   "cell_type": "markdown",
   "metadata": {},
   "source": [
    "# Check Outliers"
   ]
  },
  {
   "cell_type": "code",
   "execution_count": 8,
   "metadata": {},
   "outputs": [
    {
     "data": {
      "text/plain": [
       "<seaborn.axisgrid.FacetGrid at 0x2f6be7265f8>"
      ]
     },
     "execution_count": 8,
     "metadata": {},
     "output_type": "execute_result"
    },
    {
     "data": {
      "image/png": "[encoded data removed]",
      "text/plain": [
       "<Figure size 360x360 with 1 Axes>"
      ]
     },
     "metadata": {
      "needs_background": "light"
     },
     "output_type": "display_data"
    }
   ],
   "source": [
    "# checking outliers in datafrmae in all numarical variables\n",
    "sns.catplot(y='income', kind = 'box', data = c_data)"
   ]
  },
  {
   "cell_type": "code",
   "execution_count": 9,
   "metadata": {},
   "outputs": [
    {
     "data": {
      "image/png": "[encoded data removed]",
      "text/plain": [
       "<Figure size 1440x864 with 6 Axes>"
      ]
     },
     "metadata": {
      "needs_background": "light"
     },
     "output_type": "display_data"
    }
   ],
   "source": [
    "plt.figure(figsize=(20, 12))\n",
    "plt.subplot(2,3,1)\n",
    "sns.boxplot(y = 'income', data = c_data)\n",
    "plt.subplot(2,3,2)\n",
    "sns.boxplot(y = 'child_mort', data = c_data)\n",
    "plt.subplot(2,3,3)\n",
    "sns.boxplot(y = 'exports', data = c_data)\n",
    "plt.subplot(2,3,4)\n",
    "sns.boxplot(y = 'inflation', data = c_data)\n",
    "plt.subplot(2,3,5)\n",
    "sns.boxplot(y = 'gdpp', data = c_data)\n",
    "plt.subplot(2,3,6)\n",
    "sns.boxplot(y = 'total_fer', data = c_data)\n",
    "plt.show()"
   ]
  },
  {
   "cell_type": "markdown",
   "metadata": {},
   "source": [
    "## Handel Outliers"
   ]
  },
  {
   "cell_type": "code",
   "execution_count": 10,
   "metadata": {},
   "outputs": [],
   "source": [
    "c_data1 = c_data"
   ]
  },
  {
   "cell_type": "code",
   "execution_count": 11,
   "metadata": {},
   "outputs": [
    {
     "data": {
      "text/plain": [
       "<seaborn.axisgrid.FacetGrid at 0x2f6be726630>"
      ]
     },
     "execution_count": 11,
     "metadata": {},
     "output_type": "execute_result"
    },
    {
     "data": {
      "image/png": "[encoded data removed]",
      "text/plain": [
       "<Figure size 360x360 with 1 Axes>"
      ]
     },
     "metadata": {
      "needs_background": "light"
     },
     "output_type": "display_data"
    }
   ],
   "source": [
    "## Handel outliers \"child_mort\"\n",
    "\n",
    "Q1 = c_data1.child_mort.quantile(0.0)\n",
    "Q3 = c_data1.child_mort.quantile(0.96)\n",
    "IQR = Q3 - Q1\n",
    "#c_data1 = c_data1[(c_data1.child_mort >= Q1) & (c_data1.child_mort <= Q3)]\n",
    "#c_data['child_mort'] = c_data[c_data[child_mort <= Q3]]\n",
    "#c_data['child_mort'] = c_data.child_mort.astype(float)\n",
    "sns.catplot(y='child_mort', kind = 'box', data = c_data1)"
   ]
  },
  {
   "cell_type": "code",
   "execution_count": 12,
   "metadata": {},
   "outputs": [
    {
     "data": {
      "text/plain": [
       "<seaborn.axisgrid.FacetGrid at 0x2f6bec767f0>"
      ]
     },
     "execution_count": 12,
     "metadata": {},
     "output_type": "execute_result"
    },
    {
     "data": {
      "image/png": "[encoded data removed]",
      "text/plain": [
       "<Figure size 360x360 with 1 Axes>"
      ]
     },
     "metadata": {
      "needs_background": "light"
     },
     "output_type": "display_data"
    }
   ],
   "source": [
    "## Handel outliers \"exports\"\n",
    "\n",
    "Q1 = c_data1.exports.quantile(0.05)\n",
    "Q3 = c_data1.exports.quantile(0.96)\n",
    "IQR = Q3 - Q1\n",
    "c_data1 = c_data1[(c_data1.exports >= Q1) & (c_data1.exports <= Q3)]\n",
    "#c_data['child_mort'] = c_data[c_data[child_mort <= Q3]]\n",
    "#c_data['child_mort'] = c_data.child_mort.astype(float)\n",
    "sns.catplot(y='exports', kind = 'box', data = c_data1)"
   ]
  },
  {
   "cell_type": "code",
   "execution_count": 13,
   "metadata": {},
   "outputs": [
    {
     "data": {
      "text/plain": [
       "<seaborn.axisgrid.FacetGrid at 0x2f6bece1898>"
      ]
     },
     "execution_count": 13,
     "metadata": {},
     "output_type": "execute_result"
    },
    {
     "data": {
      "image/png": "[encoded data removed]",
      "text/plain": [
       "<Figure size 360x360 with 1 Axes>"
      ]
     },
     "metadata": {
      "needs_background": "light"
     },
     "output_type": "display_data"
    }
   ],
   "source": [
    "## Handel outliers \"health\"\n",
    "#c1 = ''\n",
    "\n",
    "Q1 = c_data1.health.quantile(0.0)\n",
    "Q3 = c_data1.health.quantile(0.97)\n",
    "IQR = Q3 - Q1\n",
    "c_data1 = c_data1[(c_data1.health >= Q1) & (c_data1.health <= Q3)]\n",
    "#c_data['child_mort'] = c_data[c_data[child_mort <= Q3]]\n",
    "#c_data['child_mort'] = c_data.child_mort.astype(float)\n",
    "sns.catplot(y='health', kind = 'box', data = c_data1)"
   ]
  },
  {
   "cell_type": "code",
   "execution_count": 14,
   "metadata": {},
   "outputs": [
    {
     "data": {
      "text/plain": [
       "<seaborn.axisgrid.FacetGrid at 0x2f6bed3f278>"
      ]
     },
     "execution_count": 14,
     "metadata": {},
     "output_type": "execute_result"
    },
    {
     "data": {
      "image/png": "[encoded data removed]",
      "text/plain": [
       "<Figure size 360x360 with 1 Axes>"
      ]
     },
     "metadata": {
      "needs_background": "light"
     },
     "output_type": "display_data"
    }
   ],
   "source": [
    "## Handel outliers \"imports\"\n",
    "#c1 = ''\n",
    "\n",
    "Q1 = c_data1.imports.quantile(0)\n",
    "Q3 = c_data1.imports.quantile(0.99)\n",
    "IQR = Q3 - Q1\n",
    "c_data1 = c_data1[(c_data1.imports >= Q1) & (c_data1.imports <= Q3)]\n",
    "#c_data['child_mort'] = c_data[c_data[child_mort <= Q3]]\n",
    "#c_data['child_mort'] = c_data.child_mort.astype(float)\n",
    "sns.catplot(y='imports', kind = 'box', data = c_data1)"
   ]
  },
  {
   "cell_type": "code",
   "execution_count": 15,
   "metadata": {},
   "outputs": [
    {
     "data": {
      "text/plain": [
       "<seaborn.axisgrid.FacetGrid at 0x2f6bece1ef0>"
      ]
     },
     "execution_count": 15,
     "metadata": {},
     "output_type": "execute_result"
    },
    {
     "data": {
      "image/png": "[encoded data removed]",
      "text/plain": [
       "<Figure size 360x360 with 1 Axes>"
      ]
     },
     "metadata": {
      "needs_background": "light"
     },
     "output_type": "display_data"
    }
   ],
   "source": [
    "## Handel outliers \"income\"\n",
    "Q1= c_data1.income.quantile(0)\n",
    "Q3 = c_data1.income.quantile(0.95)\n",
    "IQR = Q3 - Q1\n",
    "c_data1 = c_data1[(c_data1.income >= Q1) & (c_data1.income <= Q3)]\n",
    "#c_data['child_mort'] = c_data[c_data[child_mort <= Q3]]\n",
    "#c_data['child_mort'] = c_data.child_mort.astype(float)\n",
    "sns.catplot(y='income', kind = 'box', data = c_data1)"
   ]
  },
  {
   "cell_type": "code",
   "execution_count": 16,
   "metadata": {},
   "outputs": [
    {
     "data": {
      "text/plain": [
       "<seaborn.axisgrid.FacetGrid at 0x2f6bee15668>"
      ]
     },
     "execution_count": 16,
     "metadata": {},
     "output_type": "execute_result"
    },
    {
     "data": {
      "image/png": "[encoded data removed]",
      "text/plain": [
       "<Figure size 360x360 with 1 Axes>"
      ]
     },
     "metadata": {
      "needs_background": "light"
     },
     "output_type": "display_data"
    }
   ],
   "source": [
    "## Handel outliers \"inflation\"\n",
    "Q1= c_data1.inflation.quantile(0.0)\n",
    "Q3 = c_data1.inflation.quantile(0.98)\n",
    "IQR = Q3 - Q1\n",
    "c_data1 = c_data1[(c_data1.inflation >= Q1) & (c_data1.inflation <= Q3)]\n",
    "#c_data['child_mort'] = c_data[c_data[child_mort <= Q3]]\n",
    "#c_data['child_mort'] = c_data.child_mort.astype(float)\n",
    "sns.catplot(y='inflation', kind = 'box', data = c_data1)"
   ]
  },
  {
   "cell_type": "code",
   "execution_count": 17,
   "metadata": {},
   "outputs": [
    {
     "data": {
      "text/plain": [
       "<seaborn.axisgrid.FacetGrid at 0x2f6bea2a9b0>"
      ]
     },
     "execution_count": 17,
     "metadata": {},
     "output_type": "execute_result"
    },
    {
     "data": {
      "image/png": "[encoded data removed]",
      "text/plain": [
       "<Figure size 360x360 with 1 Axes>"
      ]
     },
     "metadata": {
      "needs_background": "light"
     },
     "output_type": "display_data"
    }
   ],
   "source": [
    "sns.catplot(y='life_expec', kind = 'box', data = c_data1)"
   ]
  },
  {
   "cell_type": "code",
   "execution_count": null,
   "metadata": {},
   "outputs": [],
   "source": []
  },
  {
   "cell_type": "code",
   "execution_count": null,
   "metadata": {},
   "outputs": [],
   "source": []
  },
  {
   "cell_type": "code",
   "execution_count": 18,
   "metadata": {},
   "outputs": [
    {
     "data": {
      "text/plain": [
       "<seaborn.axisgrid.FacetGrid at 0x2f6bede2358>"
      ]
     },
     "execution_count": 18,
     "metadata": {},
     "output_type": "execute_result"
    },
    {
     "data": {
      "image/png": "[encoded data removed]",
      "text/plain": [
       "<Figure size 360x360 with 1 Axes>"
      ]
     },
     "metadata": {
      "needs_background": "light"
     },
     "output_type": "display_data"
    }
   ],
   "source": [
    "sns.catplot(y='total_fer', kind = 'box', data = c_data1)"
   ]
  },
  {
   "cell_type": "code",
   "execution_count": 19,
   "metadata": {},
   "outputs": [
    {
     "data": {
      "text/plain": [
       "<seaborn.axisgrid.FacetGrid at 0x2f6bef3bcc0>"
      ]
     },
     "execution_count": 19,
     "metadata": {},
     "output_type": "execute_result"
    },
    {
     "data": {
      "image/png": "[encoded data removed]",
      "text/plain": [
       "<Figure size 360x360 with 1 Axes>"
      ]
     },
     "metadata": {
      "needs_background": "light"
     },
     "output_type": "display_data"
    }
   ],
   "source": [
    "## Handel outliers \"gdpp\"\n",
    "Q1= c_data1.gdpp.quantile(0.0)\n",
    "Q3 = c_data1.gdpp.quantile(.90)\n",
    "IQR = Q3 - Q1\n",
    "c_data1 = c_data1[(c_data1.gdpp >= Q1) & (c_data1.gdpp<= Q3)]\n",
    "#c_data['child_mort'] = c_data[c_data[child_mort <= Q3]]\n",
    "#c_data['child_mort'] = c_data.child_mort.astype(float)\n",
    "sns.catplot(y='gdpp', kind = 'box', data = c_data1)"
   ]
  },
  {
   "cell_type": "code",
   "execution_count": 20,
   "metadata": {},
   "outputs": [
    {
     "data": {
      "text/html": [
       "<div>\n",
       "<style scoped>\n",
       "    .dataframe tbody tr th:only-of-type {\n",
       "        vertical-align: middle;\n",
       "    }\n",
       "\n",
       "    .dataframe tbody tr th {\n",
       "        vertical-align: top;\n",
       "    }\n",
       "\n",
       "    .dataframe thead th {\n",
       "        text-align: right;\n",
       "    }\n",
       "</style>\n",
       "<table border=\"1\" class=\"dataframe\">\n",
       "  <thead>\n",
       "    <tr style=\"text-align: right;\">\n",
       "      <th></th>\n",
       "      <th>country</th>\n",
       "      <th>child_mort</th>\n",
       "      <th>exports</th>\n",
       "      <th>health</th>\n",
       "      <th>imports</th>\n",
       "      <th>income</th>\n",
       "      <th>inflation</th>\n",
       "      <th>life_expec</th>\n",
       "      <th>total_fer</th>\n",
       "      <th>gdpp</th>\n",
       "    </tr>\n",
       "  </thead>\n",
       "  <tbody>\n",
       "    <tr>\n",
       "      <th>0</th>\n",
       "      <td>Afghanistan</td>\n",
       "      <td>90.2</td>\n",
       "      <td>10.0</td>\n",
       "      <td>7.58</td>\n",
       "      <td>44.9</td>\n",
       "      <td>1610</td>\n",
       "      <td>9.44</td>\n",
       "      <td>56.2</td>\n",
       "      <td>5.82</td>\n",
       "      <td>553</td>\n",
       "    </tr>\n",
       "    <tr>\n",
       "      <th>1</th>\n",
       "      <td>Albania</td>\n",
       "      <td>16.6</td>\n",
       "      <td>28.0</td>\n",
       "      <td>6.55</td>\n",
       "      <td>48.6</td>\n",
       "      <td>9930</td>\n",
       "      <td>4.49</td>\n",
       "      <td>76.3</td>\n",
       "      <td>1.65</td>\n",
       "      <td>4090</td>\n",
       "    </tr>\n",
       "    <tr>\n",
       "      <th>2</th>\n",
       "      <td>Algeria</td>\n",
       "      <td>27.3</td>\n",
       "      <td>38.4</td>\n",
       "      <td>4.17</td>\n",
       "      <td>31.4</td>\n",
       "      <td>12900</td>\n",
       "      <td>16.10</td>\n",
       "      <td>76.5</td>\n",
       "      <td>2.89</td>\n",
       "      <td>4460</td>\n",
       "    </tr>\n",
       "    <tr>\n",
       "      <th>3</th>\n",
       "      <td>Angola</td>\n",
       "      <td>119.0</td>\n",
       "      <td>62.3</td>\n",
       "      <td>2.85</td>\n",
       "      <td>42.9</td>\n",
       "      <td>5900</td>\n",
       "      <td>22.40</td>\n",
       "      <td>60.1</td>\n",
       "      <td>6.16</td>\n",
       "      <td>3530</td>\n",
       "    </tr>\n",
       "    <tr>\n",
       "      <th>4</th>\n",
       "      <td>Antigua and Barbuda</td>\n",
       "      <td>10.3</td>\n",
       "      <td>45.5</td>\n",
       "      <td>6.03</td>\n",
       "      <td>58.9</td>\n",
       "      <td>19100</td>\n",
       "      <td>1.44</td>\n",
       "      <td>76.8</td>\n",
       "      <td>2.13</td>\n",
       "      <td>12200</td>\n",
       "    </tr>\n",
       "  </tbody>\n",
       "</table>\n",
       "</div>"
      ],
      "text/plain": [
       "               country  child_mort  exports  health  imports  income  \\\n",
       "0          Afghanistan        90.2     10.0    7.58     44.9    1610   \n",
       "1              Albania        16.6     28.0    6.55     48.6    9930   \n",
       "2              Algeria        27.3     38.4    4.17     31.4   12900   \n",
       "3               Angola       119.0     62.3    2.85     42.9    5900   \n",
       "4  Antigua and Barbuda        10.3     45.5    6.03     58.9   19100   \n",
       "\n",
       "   inflation  life_expec  total_fer   gdpp  \n",
       "0       9.44        56.2       5.82    553  \n",
       "1       4.49        76.3       1.65   4090  \n",
       "2      16.10        76.5       2.89   4460  \n",
       "3      22.40        60.1       6.16   3530  \n",
       "4       1.44        76.8       2.13  12200  "
      ]
     },
     "execution_count": 20,
     "metadata": {},
     "output_type": "execute_result"
    }
   ],
   "source": [
    "c_data.head()"
   ]
  },
  {
   "cell_type": "code",
   "execution_count": 21,
   "metadata": {},
   "outputs": [
    {
     "data": {
      "text/html": [
       "<div>\n",
       "<style scoped>\n",
       "    .dataframe tbody tr th:only-of-type {\n",
       "        vertical-align: middle;\n",
       "    }\n",
       "\n",
       "    .dataframe tbody tr th {\n",
       "        vertical-align: top;\n",
       "    }\n",
       "\n",
       "    .dataframe thead th {\n",
       "        text-align: right;\n",
       "    }\n",
       "</style>\n",
       "<table border=\"1\" class=\"dataframe\">\n",
       "  <thead>\n",
       "    <tr style=\"text-align: right;\">\n",
       "      <th></th>\n",
       "      <th>child_mort</th>\n",
       "      <th>exports</th>\n",
       "      <th>health</th>\n",
       "      <th>imports</th>\n",
       "      <th>income</th>\n",
       "      <th>inflation</th>\n",
       "      <th>life_expec</th>\n",
       "      <th>total_fer</th>\n",
       "      <th>gdpp</th>\n",
       "    </tr>\n",
       "  </thead>\n",
       "  <tbody>\n",
       "    <tr>\n",
       "      <th>count</th>\n",
       "      <td>119.000000</td>\n",
       "      <td>119.000000</td>\n",
       "      <td>119.000000</td>\n",
       "      <td>119.000000</td>\n",
       "      <td>119.000000</td>\n",
       "      <td>119.000000</td>\n",
       "      <td>119.000000</td>\n",
       "      <td>119.000000</td>\n",
       "      <td>119.000000</td>\n",
       "    </tr>\n",
       "    <tr>\n",
       "      <th>mean</th>\n",
       "      <td>41.052941</td>\n",
       "      <td>38.129412</td>\n",
       "      <td>6.310672</td>\n",
       "      <td>45.820168</td>\n",
       "      <td>10585.470588</td>\n",
       "      <td>7.057353</td>\n",
       "      <td>69.347899</td>\n",
       "      <td>3.038655</td>\n",
       "      <td>6143.302521</td>\n",
       "    </tr>\n",
       "    <tr>\n",
       "      <th>std</th>\n",
       "      <td>39.095537</td>\n",
       "      <td>17.338306</td>\n",
       "      <td>2.035155</td>\n",
       "      <td>16.788023</td>\n",
       "      <td>8624.239087</td>\n",
       "      <td>6.165518</td>\n",
       "      <td>8.202654</td>\n",
       "      <td>1.521722</td>\n",
       "      <td>6746.474047</td>\n",
       "    </tr>\n",
       "    <tr>\n",
       "      <th>min</th>\n",
       "      <td>3.200000</td>\n",
       "      <td>12.400000</td>\n",
       "      <td>2.200000</td>\n",
       "      <td>16.000000</td>\n",
       "      <td>609.000000</td>\n",
       "      <td>-1.430000</td>\n",
       "      <td>32.100000</td>\n",
       "      <td>1.230000</td>\n",
       "      <td>334.000000</td>\n",
       "    </tr>\n",
       "    <tr>\n",
       "      <th>0%</th>\n",
       "      <td>3.200000</td>\n",
       "      <td>12.400000</td>\n",
       "      <td>2.200000</td>\n",
       "      <td>16.000000</td>\n",
       "      <td>609.000000</td>\n",
       "      <td>-1.430000</td>\n",
       "      <td>32.100000</td>\n",
       "      <td>1.230000</td>\n",
       "      <td>334.000000</td>\n",
       "    </tr>\n",
       "    <tr>\n",
       "      <th>5%</th>\n",
       "      <td>4.460000</td>\n",
       "      <td>15.840000</td>\n",
       "      <td>3.444000</td>\n",
       "      <td>20.570000</td>\n",
       "      <td>1372.000000</td>\n",
       "      <td>0.312700</td>\n",
       "      <td>56.230000</td>\n",
       "      <td>1.388000</td>\n",
       "      <td>541.100000</td>\n",
       "    </tr>\n",
       "    <tr>\n",
       "      <th>10%</th>\n",
       "      <td>6.080000</td>\n",
       "      <td>19.140000</td>\n",
       "      <td>4.016000</td>\n",
       "      <td>25.080000</td>\n",
       "      <td>1636.000000</td>\n",
       "      <td>0.791400</td>\n",
       "      <td>57.820000</td>\n",
       "      <td>1.478000</td>\n",
       "      <td>694.000000</td>\n",
       "    </tr>\n",
       "    <tr>\n",
       "      <th>20%</th>\n",
       "      <td>10.360000</td>\n",
       "      <td>22.760000</td>\n",
       "      <td>4.714000</td>\n",
       "      <td>29.780000</td>\n",
       "      <td>2604.000000</td>\n",
       "      <td>1.696000</td>\n",
       "      <td>61.760000</td>\n",
       "      <td>1.602000</td>\n",
       "      <td>1100.000000</td>\n",
       "    </tr>\n",
       "    <tr>\n",
       "      <th>40%</th>\n",
       "      <td>18.820000</td>\n",
       "      <td>29.920000</td>\n",
       "      <td>5.602000</td>\n",
       "      <td>40.660000</td>\n",
       "      <td>6424.000000</td>\n",
       "      <td>3.912000</td>\n",
       "      <td>69.120000</td>\n",
       "      <td>2.246000</td>\n",
       "      <td>2970.000000</td>\n",
       "    </tr>\n",
       "    <tr>\n",
       "      <th>50%</th>\n",
       "      <td>24.100000</td>\n",
       "      <td>35.000000</td>\n",
       "      <td>6.010000</td>\n",
       "      <td>45.300000</td>\n",
       "      <td>8460.000000</td>\n",
       "      <td>5.450000</td>\n",
       "      <td>71.300000</td>\n",
       "      <td>2.600000</td>\n",
       "      <td>3680.000000</td>\n",
       "    </tr>\n",
       "    <tr>\n",
       "      <th>60%</th>\n",
       "      <td>34.220000</td>\n",
       "      <td>39.360000</td>\n",
       "      <td>6.728000</td>\n",
       "      <td>49.600000</td>\n",
       "      <td>10480.000000</td>\n",
       "      <td>6.996000</td>\n",
       "      <td>73.380000</td>\n",
       "      <td>2.880000</td>\n",
       "      <td>4952.000000</td>\n",
       "    </tr>\n",
       "    <tr>\n",
       "      <th>80%</th>\n",
       "      <td>73.020000</td>\n",
       "      <td>51.480000</td>\n",
       "      <td>7.964000</td>\n",
       "      <td>60.740000</td>\n",
       "      <td>17560.000000</td>\n",
       "      <td>12.260000</td>\n",
       "      <td>76.340000</td>\n",
       "      <td>4.628000</td>\n",
       "      <td>9562.000000</td>\n",
       "    </tr>\n",
       "    <tr>\n",
       "      <th>90%</th>\n",
       "      <td>102.400000</td>\n",
       "      <td>65.360000</td>\n",
       "      <td>8.954000</td>\n",
       "      <td>67.500000</td>\n",
       "      <td>22740.000000</td>\n",
       "      <td>16.520000</td>\n",
       "      <td>77.820000</td>\n",
       "      <td>5.344000</td>\n",
       "      <td>13720.000000</td>\n",
       "    </tr>\n",
       "    <tr>\n",
       "      <th>95%</th>\n",
       "      <td>116.000000</td>\n",
       "      <td>72.310000</td>\n",
       "      <td>10.310000</td>\n",
       "      <td>78.230000</td>\n",
       "      <td>28700.000000</td>\n",
       "      <td>19.710000</td>\n",
       "      <td>79.800000</td>\n",
       "      <td>5.898000</td>\n",
       "      <td>22140.000000</td>\n",
       "    </tr>\n",
       "    <tr>\n",
       "      <th>97%</th>\n",
       "      <td>120.840000</td>\n",
       "      <td>76.300000</td>\n",
       "      <td>10.946000</td>\n",
       "      <td>79.468000</td>\n",
       "      <td>29600.000000</td>\n",
       "      <td>20.846000</td>\n",
       "      <td>80.238000</td>\n",
       "      <td>6.334800</td>\n",
       "      <td>25010.000000</td>\n",
       "    </tr>\n",
       "    <tr>\n",
       "      <th>99%</th>\n",
       "      <td>147.660000</td>\n",
       "      <td>81.044000</td>\n",
       "      <td>11.264000</td>\n",
       "      <td>81.020000</td>\n",
       "      <td>32122.000000</td>\n",
       "      <td>22.728000</td>\n",
       "      <td>81.220000</td>\n",
       "      <td>6.582800</td>\n",
       "      <td>30132.000000</td>\n",
       "    </tr>\n",
       "    <tr>\n",
       "      <th>100%</th>\n",
       "      <td>208.000000</td>\n",
       "      <td>85.100000</td>\n",
       "      <td>11.700000</td>\n",
       "      <td>81.700000</td>\n",
       "      <td>41100.000000</td>\n",
       "      <td>23.600000</td>\n",
       "      <td>81.900000</td>\n",
       "      <td>7.490000</td>\n",
       "      <td>30700.000000</td>\n",
       "    </tr>\n",
       "    <tr>\n",
       "      <th>max</th>\n",
       "      <td>208.000000</td>\n",
       "      <td>85.100000</td>\n",
       "      <td>11.700000</td>\n",
       "      <td>81.700000</td>\n",
       "      <td>41100.000000</td>\n",
       "      <td>23.600000</td>\n",
       "      <td>81.900000</td>\n",
       "      <td>7.490000</td>\n",
       "      <td>30700.000000</td>\n",
       "    </tr>\n",
       "  </tbody>\n",
       "</table>\n",
       "</div>"
      ],
      "text/plain": [
       "       child_mort     exports      health     imports        income  \\\n",
       "count  119.000000  119.000000  119.000000  119.000000    119.000000   \n",
       "mean    41.052941   38.129412    6.310672   45.820168  10585.470588   \n",
       "std     39.095537   17.338306    2.035155   16.788023   8624.239087   \n",
       "min      3.200000   12.400000    2.200000   16.000000    609.000000   \n",
       "0%       3.200000   12.400000    2.200000   16.000000    609.000000   \n",
       "5%       4.460000   15.840000    3.444000   20.570000   1372.000000   \n",
       "10%      6.080000   19.140000    4.016000   25.080000   1636.000000   \n",
       "20%     10.360000   22.760000    4.714000   29.780000   2604.000000   \n",
       "40%     18.820000   29.920000    5.602000   40.660000   6424.000000   \n",
       "50%     24.100000   35.000000    6.010000   45.300000   8460.000000   \n",
       "60%     34.220000   39.360000    6.728000   49.600000  10480.000000   \n",
       "80%     73.020000   51.480000    7.964000   60.740000  17560.000000   \n",
       "90%    102.400000   65.360000    8.954000   67.500000  22740.000000   \n",
       "95%    116.000000   72.310000   10.310000   78.230000  28700.000000   \n",
       "97%    120.840000   76.300000   10.946000   79.468000  29600.000000   \n",
       "99%    147.660000   81.044000   11.264000   81.020000  32122.000000   \n",
       "100%   208.000000   85.100000   11.700000   81.700000  41100.000000   \n",
       "max    208.000000   85.100000   11.700000   81.700000  41100.000000   \n",
       "\n",
       "        inflation  life_expec   total_fer          gdpp  \n",
       "count  119.000000  119.000000  119.000000    119.000000  \n",
       "mean     7.057353   69.347899    3.038655   6143.302521  \n",
       "std      6.165518    8.202654    1.521722   6746.474047  \n",
       "min     -1.430000   32.100000    1.230000    334.000000  \n",
       "0%      -1.430000   32.100000    1.230000    334.000000  \n",
       "5%       0.312700   56.230000    1.388000    541.100000  \n",
       "10%      0.791400   57.820000    1.478000    694.000000  \n",
       "20%      1.696000   61.760000    1.602000   1100.000000  \n",
       "40%      3.912000   69.120000    2.246000   2970.000000  \n",
       "50%      5.450000   71.300000    2.600000   3680.000000  \n",
       "60%      6.996000   73.380000    2.880000   4952.000000  \n",
       "80%     12.260000   76.340000    4.628000   9562.000000  \n",
       "90%     16.520000   77.820000    5.344000  13720.000000  \n",
       "95%     19.710000   79.800000    5.898000  22140.000000  \n",
       "97%     20.846000   80.238000    6.334800  25010.000000  \n",
       "99%     22.728000   81.220000    6.582800  30132.000000  \n",
       "100%    23.600000   81.900000    7.490000  30700.000000  \n",
       "max     23.600000   81.900000    7.490000  30700.000000  "
      ]
     },
     "execution_count": 21,
     "metadata": {},
     "output_type": "execute_result"
    }
   ],
   "source": [
    "## Investigate dataframe \"c_data\"\n",
    "# percentile list \n",
    "perc =[0.0,.05,.1,.20, .40, .60, .80,.90,.95,.97,.99,1] \n",
    "# list of dtypes to include \n",
    "#include =['float', 'int'] \n",
    "# calling describe method\n",
    "c_data1.describe(percentiles = perc)"
   ]
  },
  {
   "cell_type": "code",
   "execution_count": 22,
   "metadata": {},
   "outputs": [
    {
     "data": {
      "text/plain": [
       "(119, 10)"
      ]
     },
     "execution_count": 22,
     "metadata": {},
     "output_type": "execute_result"
    }
   ],
   "source": [
    "c_data = c_data1\n",
    "c_data.shape"
   ]
  },
  {
   "cell_type": "code",
   "execution_count": 23,
   "metadata": {},
   "outputs": [
    {
     "data": {
      "text/html": [
       "<div>\n",
       "<style scoped>\n",
       "    .dataframe tbody tr th:only-of-type {\n",
       "        vertical-align: middle;\n",
       "    }\n",
       "\n",
       "    .dataframe tbody tr th {\n",
       "        vertical-align: top;\n",
       "    }\n",
       "\n",
       "    .dataframe thead th {\n",
       "        text-align: right;\n",
       "    }\n",
       "</style>\n",
       "<table border=\"1\" class=\"dataframe\">\n",
       "  <thead>\n",
       "    <tr style=\"text-align: right;\">\n",
       "      <th></th>\n",
       "      <th>child_mort</th>\n",
       "      <th>exports</th>\n",
       "      <th>health</th>\n",
       "      <th>imports</th>\n",
       "      <th>income</th>\n",
       "      <th>inflation</th>\n",
       "      <th>life_expec</th>\n",
       "      <th>total_fer</th>\n",
       "      <th>gdpp</th>\n",
       "    </tr>\n",
       "  </thead>\n",
       "  <tbody>\n",
       "    <tr>\n",
       "      <th>1</th>\n",
       "      <td>16.6</td>\n",
       "      <td>28.0</td>\n",
       "      <td>6.55</td>\n",
       "      <td>48.6</td>\n",
       "      <td>9930</td>\n",
       "      <td>4.49</td>\n",
       "      <td>76.3</td>\n",
       "      <td>1.65</td>\n",
       "      <td>4090</td>\n",
       "    </tr>\n",
       "    <tr>\n",
       "      <th>2</th>\n",
       "      <td>27.3</td>\n",
       "      <td>38.4</td>\n",
       "      <td>4.17</td>\n",
       "      <td>31.4</td>\n",
       "      <td>12900</td>\n",
       "      <td>16.10</td>\n",
       "      <td>76.5</td>\n",
       "      <td>2.89</td>\n",
       "      <td>4460</td>\n",
       "    </tr>\n",
       "    <tr>\n",
       "      <th>3</th>\n",
       "      <td>119.0</td>\n",
       "      <td>62.3</td>\n",
       "      <td>2.85</td>\n",
       "      <td>42.9</td>\n",
       "      <td>5900</td>\n",
       "      <td>22.40</td>\n",
       "      <td>60.1</td>\n",
       "      <td>6.16</td>\n",
       "      <td>3530</td>\n",
       "    </tr>\n",
       "    <tr>\n",
       "      <th>4</th>\n",
       "      <td>10.3</td>\n",
       "      <td>45.5</td>\n",
       "      <td>6.03</td>\n",
       "      <td>58.9</td>\n",
       "      <td>19100</td>\n",
       "      <td>1.44</td>\n",
       "      <td>76.8</td>\n",
       "      <td>2.13</td>\n",
       "      <td>12200</td>\n",
       "    </tr>\n",
       "    <tr>\n",
       "      <th>5</th>\n",
       "      <td>14.5</td>\n",
       "      <td>18.9</td>\n",
       "      <td>8.10</td>\n",
       "      <td>16.0</td>\n",
       "      <td>18700</td>\n",
       "      <td>20.90</td>\n",
       "      <td>75.8</td>\n",
       "      <td>2.37</td>\n",
       "      <td>10300</td>\n",
       "    </tr>\n",
       "  </tbody>\n",
       "</table>\n",
       "</div>"
      ],
      "text/plain": [
       "   child_mort  exports  health  imports  income  inflation  life_expec  \\\n",
       "1        16.6     28.0    6.55     48.6    9930       4.49        76.3   \n",
       "2        27.3     38.4    4.17     31.4   12900      16.10        76.5   \n",
       "3       119.0     62.3    2.85     42.9    5900      22.40        60.1   \n",
       "4        10.3     45.5    6.03     58.9   19100       1.44        76.8   \n",
       "5        14.5     18.9    8.10     16.0   18700      20.90        75.8   \n",
       "\n",
       "   total_fer   gdpp  \n",
       "1       1.65   4090  \n",
       "2       2.89   4460  \n",
       "3       6.16   3530  \n",
       "4       2.13  12200  \n",
       "5       2.37  10300  "
      ]
     },
     "execution_count": 23,
     "metadata": {},
     "output_type": "execute_result"
    }
   ],
   "source": [
    "\n",
    "df = c_data.loc[: , c_data.columns != 'country']\n",
    "df.head()"
   ]
  },
  {
   "cell_type": "markdown",
   "metadata": {},
   "source": [
    "## Scale data set to analyise"
   ]
  },
  {
   "cell_type": "code",
   "execution_count": 24,
   "metadata": {},
   "outputs": [
    {
     "data": {
      "text/html": [
       "<div>\n",
       "<style scoped>\n",
       "    .dataframe tbody tr th:only-of-type {\n",
       "        vertical-align: middle;\n",
       "    }\n",
       "\n",
       "    .dataframe tbody tr th {\n",
       "        vertical-align: top;\n",
       "    }\n",
       "\n",
       "    .dataframe thead th {\n",
       "        text-align: right;\n",
       "    }\n",
       "</style>\n",
       "<table border=\"1\" class=\"dataframe\">\n",
       "  <thead>\n",
       "    <tr style=\"text-align: right;\">\n",
       "      <th></th>\n",
       "      <th>child_mort</th>\n",
       "      <th>exports</th>\n",
       "      <th>health</th>\n",
       "      <th>imports</th>\n",
       "      <th>income</th>\n",
       "      <th>inflation</th>\n",
       "      <th>life_expec</th>\n",
       "      <th>total_fer</th>\n",
       "      <th>gdpp</th>\n",
       "    </tr>\n",
       "  </thead>\n",
       "  <tbody>\n",
       "    <tr>\n",
       "      <th>1</th>\n",
       "      <td>-0.625466</td>\n",
       "      <td>-0.584222</td>\n",
       "      <td>0.117597</td>\n",
       "      <td>0.165584</td>\n",
       "      <td>-0.076003</td>\n",
       "      <td>-0.416405</td>\n",
       "      <td>0.847543</td>\n",
       "      <td>-0.912555</td>\n",
       "      <td>-0.304352</td>\n",
       "    </tr>\n",
       "    <tr>\n",
       "      <th>2</th>\n",
       "      <td>-0.351778</td>\n",
       "      <td>0.015606</td>\n",
       "      <td>-1.051847</td>\n",
       "      <td>-0.858956</td>\n",
       "      <td>0.268375</td>\n",
       "      <td>1.466648</td>\n",
       "      <td>0.871925</td>\n",
       "      <td>-0.097689</td>\n",
       "      <td>-0.249508</td>\n",
       "    </tr>\n",
       "    <tr>\n",
       "      <th>3</th>\n",
       "      <td>1.993759</td>\n",
       "      <td>1.394057</td>\n",
       "      <td>-1.700447</td>\n",
       "      <td>-0.173944</td>\n",
       "      <td>-0.543291</td>\n",
       "      <td>2.488460</td>\n",
       "      <td>-1.127428</td>\n",
       "      <td>2.051193</td>\n",
       "      <td>-0.387358</td>\n",
       "    </tr>\n",
       "    <tr>\n",
       "      <th>4</th>\n",
       "      <td>-0.786610</td>\n",
       "      <td>0.425104</td>\n",
       "      <td>-0.137912</td>\n",
       "      <td>0.779117</td>\n",
       "      <td>0.987279</td>\n",
       "      <td>-0.911092</td>\n",
       "      <td>0.908499</td>\n",
       "      <td>-0.597123</td>\n",
       "      <td>0.897757</td>\n",
       "    </tr>\n",
       "    <tr>\n",
       "      <th>5</th>\n",
       "      <td>-0.679181</td>\n",
       "      <td>-1.109071</td>\n",
       "      <td>0.879210</td>\n",
       "      <td>-1.776276</td>\n",
       "      <td>0.940898</td>\n",
       "      <td>2.245172</td>\n",
       "      <td>0.786587</td>\n",
       "      <td>-0.439407</td>\n",
       "      <td>0.616129</td>\n",
       "    </tr>\n",
       "  </tbody>\n",
       "</table>\n",
       "</div>"
      ],
      "text/plain": [
       "   child_mort   exports    health   imports    income  inflation  life_expec  \\\n",
       "1   -0.625466 -0.584222  0.117597  0.165584 -0.076003  -0.416405    0.847543   \n",
       "2   -0.351778  0.015606 -1.051847 -0.858956  0.268375   1.466648    0.871925   \n",
       "3    1.993759  1.394057 -1.700447 -0.173944 -0.543291   2.488460   -1.127428   \n",
       "4   -0.786610  0.425104 -0.137912  0.779117  0.987279  -0.911092    0.908499   \n",
       "5   -0.679181 -1.109071  0.879210 -1.776276  0.940898   2.245172    0.786587   \n",
       "\n",
       "   total_fer      gdpp  \n",
       "1  -0.912555 -0.304352  \n",
       "2  -0.097689 -0.249508  \n",
       "3   2.051193 -0.387358  \n",
       "4  -0.597123  0.897757  \n",
       "5  -0.439407  0.616129  "
      ]
     },
     "execution_count": 24,
     "metadata": {},
     "output_type": "execute_result"
    }
   ],
   "source": [
    "n_df = (df-df.mean())/df.std()\n",
    "n_df.head()"
   ]
  },
  {
   "cell_type": "code",
   "execution_count": 25,
   "metadata": {},
   "outputs": [
    {
     "data": {
      "image/png": "[encoded data removed]",
      "text/plain": [
       "<Figure size 1440x864 with 6 Axes>"
      ]
     },
     "metadata": {
      "needs_background": "light"
     },
     "output_type": "display_data"
    }
   ],
   "source": [
    "plt.figure(figsize=(20, 12))\n",
    "plt.subplot(2,3,1)\n",
    "sns.boxplot(y = 'income', data = n_df)\n",
    "plt.subplot(2,3,2)\n",
    "sns.boxplot(y = 'child_mort', data = n_df)\n",
    "plt.subplot(2,3,3)\n",
    "sns.boxplot(y = 'exports', data = n_df)\n",
    "plt.subplot(2,3,4)\n",
    "sns.boxplot(y = 'inflation', data = n_df)\n",
    "plt.subplot(2,3,5)\n",
    "sns.boxplot(y = 'gdpp', data = n_df)\n",
    "plt.subplot(2,3,6)\n",
    "sns.boxplot(y = 'total_fer', data = n_df)\n",
    "plt.show()"
   ]
  },
  {
   "cell_type": "code",
   "execution_count": 26,
   "metadata": {},
   "outputs": [
    {
     "data": {
      "text/plain": [
       "<matplotlib.axes._subplots.AxesSubplot at 0x2f6bea5e2e8>"
      ]
     },
     "execution_count": 26,
     "metadata": {},
     "output_type": "execute_result"
    },
    {
     "data": {
      "image/png": "[encoded data removed]",
      "text/plain": [
       "<Figure size 1440x720 with 2 Axes>"
      ]
     },
     "metadata": {
      "needs_background": "light"
     },
     "output_type": "display_data"
    }
   ],
   "source": [
    "# PCA on Data \n",
    "plt.figure(figsize = (20,10))\n",
    "sns.heatmap(n_df.corr(),annot = True)"
   ]
  },
  {
   "cell_type": "markdown",
   "metadata": {},
   "source": [
    "# PCA on data"
   ]
  },
  {
   "cell_type": "code",
   "execution_count": 28,
   "metadata": {},
   "outputs": [],
   "source": [
    "from sklearn.decomposition import PCA\n",
    "pca = PCA(svd_solver='randomized', random_state=42)"
   ]
  },
  {
   "cell_type": "code",
   "execution_count": 29,
   "metadata": {},
   "outputs": [
    {
     "data": {
      "text/plain": [
       "PCA(copy=True, iterated_power='auto', n_components=None, random_state=42,\n",
       "  svd_solver='randomized', tol=0.0, whiten=False)"
      ]
     },
     "execution_count": 29,
     "metadata": {},
     "output_type": "execute_result"
    }
   ],
   "source": [
    "pca.fit(n_df)"
   ]
  },
  {
   "cell_type": "code",
   "execution_count": 30,
   "metadata": {},
   "outputs": [
    {
     "data": {
      "text/plain": [
       "array([[ 0.42801419, -0.19782654, -0.21295418, -0.10415656, -0.42163562,\n",
       "         0.2051005 , -0.41234759,  0.41595586, -0.3982183 ],\n",
       "       [-0.07747144, -0.50633823, -0.08207461, -0.75604432,  0.16488258,\n",
       "         0.27889673,  0.16442039, -0.04875192,  0.15779753],\n",
       "       [-0.12374238,  0.50793069, -0.62558662, -0.02014583,  0.10937926,\n",
       "         0.5455807 ,  0.11957244, -0.07046444, -0.07774852],\n",
       "       [ 0.40450658,  0.29663828,  0.06884011, -0.13579691,  0.43730706,\n",
       "        -0.00098439, -0.33866611,  0.35349194,  0.54250408],\n",
       "       [-0.07257471,  0.07265065,  0.68097704,  0.11367579, -0.0136451 ,\n",
       "         0.70849745, -0.0760272 , -0.01699834, -0.06766817],\n",
       "       [ 0.12808152, -0.10173647, -0.09241459,  0.01016676,  0.13492246,\n",
       "         0.02558657, -0.62027371, -0.74822967, -0.03398745],\n",
       "       [ 0.05312023, -0.57211817, -0.27111395,  0.61705722,  0.14873348,\n",
       "         0.2696639 ,  0.07107057,  0.09099039,  0.32775924],\n",
       "       [ 0.77919465,  0.04969339,  0.07018552,  0.01486839, -0.00957257,\n",
       "         0.0469779 ,  0.52739516, -0.31596636, -0.07042895],\n",
       "       [-0.01504177,  0.11437371, -0.03343244, -0.06852387, -0.74245021,\n",
       "         0.07030142, -0.01505994, -0.16257803,  0.63090897]])"
      ]
     },
     "execution_count": 30,
     "metadata": {},
     "output_type": "execute_result"
    }
   ],
   "source": [
    "pca.components_"
   ]
  },
  {
   "cell_type": "code",
   "execution_count": 31,
   "metadata": {},
   "outputs": [
    {
     "data": {
      "text/plain": [
       "array([0.47021719, 0.16539741, 0.13212631, 0.08963656, 0.07449043,\n",
       "       0.02874254, 0.02302269, 0.01046919, 0.00589769])"
      ]
     },
     "execution_count": 31,
     "metadata": {},
     "output_type": "execute_result"
    }
   ],
   "source": [
    "pca.explained_variance_ratio_"
   ]
  },
  {
   "cell_type": "code",
   "execution_count": 32,
   "metadata": {},
   "outputs": [
    {
     "data": {
      "text/html": [
       "<div>\n",
       "<style scoped>\n",
       "    .dataframe tbody tr th:only-of-type {\n",
       "        vertical-align: middle;\n",
       "    }\n",
       "\n",
       "    .dataframe tbody tr th {\n",
       "        vertical-align: top;\n",
       "    }\n",
       "\n",
       "    .dataframe thead th {\n",
       "        text-align: right;\n",
       "    }\n",
       "</style>\n",
       "<table border=\"1\" class=\"dataframe\">\n",
       "  <thead>\n",
       "    <tr style=\"text-align: right;\">\n",
       "      <th></th>\n",
       "      <th>PC1</th>\n",
       "      <th>PC2</th>\n",
       "      <th>Feature</th>\n",
       "    </tr>\n",
       "  </thead>\n",
       "  <tbody>\n",
       "    <tr>\n",
       "      <th>0</th>\n",
       "      <td>0.428014</td>\n",
       "      <td>-0.077471</td>\n",
       "      <td>child_mort</td>\n",
       "    </tr>\n",
       "    <tr>\n",
       "      <th>1</th>\n",
       "      <td>-0.197827</td>\n",
       "      <td>-0.506338</td>\n",
       "      <td>exports</td>\n",
       "    </tr>\n",
       "    <tr>\n",
       "      <th>2</th>\n",
       "      <td>-0.212954</td>\n",
       "      <td>-0.082075</td>\n",
       "      <td>health</td>\n",
       "    </tr>\n",
       "    <tr>\n",
       "      <th>3</th>\n",
       "      <td>-0.104157</td>\n",
       "      <td>-0.756044</td>\n",
       "      <td>imports</td>\n",
       "    </tr>\n",
       "    <tr>\n",
       "      <th>4</th>\n",
       "      <td>-0.421636</td>\n",
       "      <td>0.164883</td>\n",
       "      <td>income</td>\n",
       "    </tr>\n",
       "    <tr>\n",
       "      <th>5</th>\n",
       "      <td>0.205100</td>\n",
       "      <td>0.278897</td>\n",
       "      <td>inflation</td>\n",
       "    </tr>\n",
       "    <tr>\n",
       "      <th>6</th>\n",
       "      <td>-0.412348</td>\n",
       "      <td>0.164420</td>\n",
       "      <td>life_expec</td>\n",
       "    </tr>\n",
       "    <tr>\n",
       "      <th>7</th>\n",
       "      <td>0.415956</td>\n",
       "      <td>-0.048752</td>\n",
       "      <td>total_fer</td>\n",
       "    </tr>\n",
       "    <tr>\n",
       "      <th>8</th>\n",
       "      <td>-0.398218</td>\n",
       "      <td>0.157798</td>\n",
       "      <td>gdpp</td>\n",
       "    </tr>\n",
       "  </tbody>\n",
       "</table>\n",
       "</div>"
      ],
      "text/plain": [
       "        PC1       PC2     Feature\n",
       "0  0.428014 -0.077471  child_mort\n",
       "1 -0.197827 -0.506338     exports\n",
       "2 -0.212954 -0.082075      health\n",
       "3 -0.104157 -0.756044     imports\n",
       "4 -0.421636  0.164883      income\n",
       "5  0.205100  0.278897   inflation\n",
       "6 -0.412348  0.164420  life_expec\n",
       "7  0.415956 -0.048752   total_fer\n",
       "8 -0.398218  0.157798        gdpp"
      ]
     },
     "execution_count": 32,
     "metadata": {},
     "output_type": "execute_result"
    }
   ],
   "source": [
    "## Pick two PCA components\n",
    "colnames = list(n_df.columns)\n",
    "pcs_df = pd.DataFrame({'PC1':pca.components_[0],'PC2':pca.components_[1], 'Feature':colnames})\n",
    "pcs_df"
   ]
  },
  {
   "cell_type": "code",
   "execution_count": 33,
   "metadata": {},
   "outputs": [
    {
     "data": {
      "image/png": "[encoded data removed]",
      "text/plain": [
       "<Figure size 576x576 with 1 Axes>"
      ]
     },
     "metadata": {
      "needs_background": "light"
     },
     "output_type": "display_data"
    }
   ],
   "source": [
    "## Visualise dimentions on first two PCA componets on the base of variance to check co-relation. \n",
    "## \"total_fer\" & \"child_mort\" has very low covariance\n",
    "%matplotlib inline\n",
    "fig = plt.figure(figsize = (8,8))\n",
    "plt.scatter(pcs_df.PC1, pcs_df.PC2)\n",
    "plt.xlabel('Principal Component 1')\n",
    "plt.ylabel('Principal Component 2')\n",
    "for i, txt in enumerate(pcs_df.Feature):\n",
    "    plt.annotate(txt, (pcs_df.PC1[i],pcs_df.PC2[i]))\n",
    "plt.tight_layout()\n",
    "plt.show()"
   ]
  },
  {
   "cell_type": "markdown",
   "metadata": {},
   "source": [
    "## checking of how many component would be relevent for this country dataset.\n",
    "#### 4 PCA components covering maximum data so we are going consider 4 PCA components to  Analyize country dataset."
   ]
  },
  {
   "cell_type": "code",
   "execution_count": 610,
   "metadata": {},
   "outputs": [
    {
     "data": {
      "image/png": "[encoded data removed]",
      "text/plain": [
       "<Figure size 864x576 with 1 Axes>"
      ]
     },
     "metadata": {
      "needs_background": "light"
     },
     "output_type": "display_data"
    }
   ],
   "source": [
    "#Making the screeplot - plotting the cumulative variance against the number of components\n",
    "%matplotlib inline\n",
    "fig = plt.figure(figsize = (12,8))\n",
    "plt.plot(np.cumsum(pca.explained_variance_ratio_))\n",
    "plt.xlabel('number of components')\n",
    "plt.ylabel('cumulative explained variance')\n",
    "plt.show()"
   ]
  },
  {
   "cell_type": "code",
   "execution_count": 34,
   "metadata": {},
   "outputs": [],
   "source": [
    "#Using incremental PCA for efficiency - saves a lot of time on larger datasets\n",
    "from sklearn.decomposition import IncrementalPCA\n",
    "pca_final = IncrementalPCA(n_components=4)"
   ]
  },
  {
   "cell_type": "code",
   "execution_count": 35,
   "metadata": {},
   "outputs": [
    {
     "data": {
      "text/plain": [
       "(119, 4)"
      ]
     },
     "execution_count": 35,
     "metadata": {},
     "output_type": "execute_result"
    }
   ],
   "source": [
    "df_train_pca = pca_final.fit_transform(n_df)\n",
    "df_train_pca.shape"
   ]
  },
  {
   "cell_type": "code",
   "execution_count": 36,
   "metadata": {},
   "outputs": [],
   "source": [
    "#creating correlation matrix for the principal components\n",
    "corrmat = np.corrcoef(df_train_pca.transpose())"
   ]
  },
  {
   "cell_type": "code",
   "execution_count": 37,
   "metadata": {},
   "outputs": [
    {
     "data": {
      "text/plain": [
       "<matplotlib.axes._subplots.AxesSubplot at 0x2f6c014fb38>"
      ]
     },
     "execution_count": 37,
     "metadata": {},
     "output_type": "execute_result"
    },
    {
     "data": {
      "image/png": "[encoded data removed]",
      "text/plain": [
       "<Figure size 720x360 with 2 Axes>"
      ]
     },
     "metadata": {
      "needs_background": "light"
     },
     "output_type": "display_data"
    }
   ],
   "source": [
    "#plotting the correlation matrix\n",
    "%matplotlib inline\n",
    "plt.figure(figsize = (10,5))\n",
    "sns.heatmap(corrmat,annot = True)"
   ]
  },
  {
   "cell_type": "code",
   "execution_count": 38,
   "metadata": {},
   "outputs": [
    {
     "name": "stdout",
     "output_type": "stream",
     "text": [
      "max corr: 0.0002057120975118819 , min corr:  -0.008539619458114947\n"
     ]
    }
   ],
   "source": [
    "# 1s -> 0s in diagonals\n",
    "corrmat_nodiag = corrmat - np.diagflat(corrmat.diagonal())\n",
    "print(\"max corr:\",corrmat_nodiag.max(), \", min corr: \", corrmat_nodiag.min(),)\n",
    "# we see that correlations are indeed very close to 0"
   ]
  },
  {
   "cell_type": "code",
   "execution_count": 42,
   "metadata": {},
   "outputs": [
    {
     "data": {
      "text/plain": [
       "array([-0.61526744, -1.07639539, -0.714885  ,  0.06345751, -1.51231109,\n",
       "       -0.04453976,  0.61429447,  1.39782495,  0.10242017,  1.38141439,\n",
       "       -0.35030306,  0.05669301,  0.53013528,  0.67524359, -0.53617723,\n",
       "        1.60467549, -0.40004458,  0.89931287,  0.729444  , -1.34284935,\n",
       "       -1.5340035 , -1.98660432,  0.25199149,  0.40523172,  1.60434687,\n",
       "       -0.99374386,  1.05134332, -0.64510239,  1.110426  , -1.0699879 ,\n",
       "       -1.0527889 , -1.46416686, -0.12389606,  1.74113191,  1.67629979,\n",
       "       -1.01304432,  0.07538942,  0.14683592, -0.22741005, -1.96517196,\n",
       "       -0.12455276, -0.60014225, -0.07005551, -0.21178526,  2.15477392,\n",
       "        1.58094446,  2.32557637, -1.10197461, -1.8015752 , -2.32667917,\n",
       "       -0.85162081, -1.607097  , -0.27027593,  1.20998404, -1.39167566,\n",
       "       -0.37066283,  1.54582306,  2.1186759 ,  0.38151366,  0.8153016 ,\n",
       "        0.42673992, -0.3528059 ,  1.48851207,  0.66035674, -0.06465248,\n",
       "       -0.40777048,  1.99634304, -0.05073851,  0.93195238,  1.09385979,\n",
       "        1.42552215,  0.66956063,  0.01818464,  0.57062422,  1.43757838,\n",
       "        0.6837915 , -1.68511646,  2.27533402,  0.79750159, -1.42048178,\n",
       "       -0.21515893, -0.44521707, -1.29352434, -0.67751204, -2.14286282,\n",
       "        0.4149353 ,  0.08076026, -0.23886535,  2.16799042,  0.91781901,\n",
       "        2.35799556, -0.814874  , -0.50234229, -2.19957312, -2.23743899,\n",
       "        0.17882973, -2.00873028, -0.0827462 , -0.08635663, -0.83491537,\n",
       "        1.39164463,  1.51134363,  0.15222636,  0.77611991, -1.91425152,\n",
       "        1.41949825, -0.85955259,  0.20156669, -1.63134693, -1.21734763,\n",
       "        1.08967513,  2.39280626, -1.21009683, -0.30302568])"
      ]
     },
     "execution_count": 42,
     "metadata": {},
     "output_type": "execute_result"
    }
   ],
   "source": [
    "df_train_pca[5: ,1]"
   ]
  },
  {
   "cell_type": "code",
   "execution_count": 43,
   "metadata": {},
   "outputs": [
    {
     "data": {
      "text/html": [
       "<div>\n",
       "<style scoped>\n",
       "    .dataframe tbody tr th:only-of-type {\n",
       "        vertical-align: middle;\n",
       "    }\n",
       "\n",
       "    .dataframe tbody tr th {\n",
       "        vertical-align: top;\n",
       "    }\n",
       "\n",
       "    .dataframe thead th {\n",
       "        text-align: right;\n",
       "    }\n",
       "</style>\n",
       "<table border=\"1\" class=\"dataframe\">\n",
       "  <thead>\n",
       "    <tr style=\"text-align: right;\">\n",
       "      <th></th>\n",
       "      <th>A</th>\n",
       "      <th>B</th>\n",
       "      <th>C</th>\n",
       "      <th>D</th>\n",
       "    </tr>\n",
       "  </thead>\n",
       "  <tbody>\n",
       "    <tr>\n",
       "      <th>0</th>\n",
       "      <td>-0.855482</td>\n",
       "      <td>-0.227921</td>\n",
       "      <td>-0.335437</td>\n",
       "      <td>-1.263436</td>\n",
       "    </tr>\n",
       "    <tr>\n",
       "      <th>1</th>\n",
       "      <td>0.047495</td>\n",
       "      <td>-1.244787</td>\n",
       "      <td>1.759583</td>\n",
       "      <td>-0.410392</td>\n",
       "    </tr>\n",
       "    <tr>\n",
       "      <th>2</th>\n",
       "      <td>3.169743</td>\n",
       "      <td>0.433401</td>\n",
       "      <td>2.578709</td>\n",
       "      <td>1.848593</td>\n",
       "    </tr>\n",
       "    <tr>\n",
       "      <th>3</th>\n",
       "      <td>-2.054186</td>\n",
       "      <td>0.551182</td>\n",
       "      <td>0.002359</td>\n",
       "      <td>0.030439</td>\n",
       "    </tr>\n",
       "    <tr>\n",
       "      <th>4</th>\n",
       "      <td>-0.766793</td>\n",
       "      <td>-2.997358</td>\n",
       "      <td>0.673137</td>\n",
       "      <td>0.208372</td>\n",
       "    </tr>\n",
       "  </tbody>\n",
       "</table>\n",
       "</div>"
      ],
      "text/plain": [
       "          A         B         C         D\n",
       "0 -0.855482 -0.227921 -0.335437 -1.263436\n",
       "1  0.047495 -1.244787  1.759583 -0.410392\n",
       "2  3.169743  0.433401  2.578709  1.848593\n",
       "3 -2.054186  0.551182  0.002359  0.030439\n",
       "4 -0.766793 -2.997358  0.673137  0.208372"
      ]
     },
     "execution_count": 43,
     "metadata": {},
     "output_type": "execute_result"
    }
   ],
   "source": [
    "## create dataFrame from the PCA's\n",
    "mydf = pd.DataFrame(df_train_pca, columns=['A','B','C','D'])\n",
    "#mydf = pd.DataFrame({'A':df_train_pca[0],'B':df_train_pca[1],'C':df_train_pca[2],'D':df_train_pca[3]})\n",
    "mydf.head()"
   ]
  },
  {
   "cell_type": "code",
   "execution_count": 44,
   "metadata": {},
   "outputs": [
    {
     "data": {
      "image/png": "[encoded data removed]",
      "text/plain": [
       "<Figure size 576x576 with 1 Axes>"
      ]
     },
     "metadata": {
      "needs_background": "light"
     },
     "output_type": "display_data"
    }
   ],
   "source": [
    "## Visualize whole data in two dimention using two PCA's\n",
    "fig = plt.figure(figsize = (8,8))\n",
    "sns.scatterplot(x='A',y='B',data=mydf)\n",
    "plt.show()"
   ]
  },
  {
   "cell_type": "markdown",
   "metadata": {},
   "source": [
    "## Useing Hopkins method to find data tendency towards clustring \n",
    "#### tendency showing in the range to 0 & 1 : > 0.5 output would be good data to cluster on it."
   ]
  },
  {
   "cell_type": "code",
   "execution_count": 45,
   "metadata": {},
   "outputs": [],
   "source": [
    "from sklearn.neighbors import NearestNeighbors\n",
    "from random import sample\n",
    "from numpy.random import uniform\n",
    "import numpy as np\n",
    "from math import isnan\n",
    " \n",
    "def hopkins(X):\n",
    "    d = X.shape[1]\n",
    "    #d = len(vars) # columns\n",
    "    n = len(X) # rows\n",
    "    m = int(0.1 * n) \n",
    "    nbrs = NearestNeighbors(n_neighbors=1).fit(X.values)\n",
    " \n",
    "    rand_X = sample(range(0, n, 1), m)\n",
    " \n",
    "    ujd = []\n",
    "    wjd = []\n",
    "    for j in range(0, m):\n",
    "        u_dist, _ = nbrs.kneighbors(uniform(np.amin(X,axis=0),np.amax(X,axis=0),d).reshape(1, -1), 2, return_distance=True)\n",
    "        ujd.append(u_dist[0][1])\n",
    "        w_dist, _ = nbrs.kneighbors(X.iloc[rand_X[j]].values.reshape(1, -1), 2, return_distance=True)\n",
    "        wjd.append(w_dist[0][1])\n",
    " \n",
    "    H = sum(ujd) / (sum(ujd) + sum(wjd))\n",
    "    if isnan(H):\n",
    "        print(ujd, wjd)\n",
    "        H = 0\n",
    " \n",
    "    return H"
   ]
  },
  {
   "cell_type": "code",
   "execution_count": 51,
   "metadata": {},
   "outputs": [
    {
     "data": {
      "text/plain": [
       "0.723978744854605"
      ]
     },
     "execution_count": 51,
     "metadata": {},
     "output_type": "execute_result"
    }
   ],
   "source": [
    "hopkins(mydf)"
   ]
  },
  {
   "cell_type": "markdown",
   "metadata": {},
   "source": [
    "## Creating KMeans object using intilazing randomely k =4"
   ]
  },
  {
   "cell_type": "code",
   "execution_count": 52,
   "metadata": {},
   "outputs": [
    {
     "data": {
      "text/plain": [
       "KMeans(algorithm='auto', copy_x=True, init='k-means++', max_iter=50,\n",
       "    n_clusters=4, n_init=10, n_jobs=1, precompute_distances='auto',\n",
       "    random_state=None, tol=0.0001, verbose=0)"
      ]
     },
     "execution_count": 52,
     "metadata": {},
     "output_type": "execute_result"
    }
   ],
   "source": [
    "# Kmeans with K=4\n",
    "model_clus5 = KMeans(n_clusters = 4, max_iter=50)\n",
    "model_clus5.fit(mydf)\n",
    "                    "
   ]
  },
  {
   "cell_type": "markdown",
   "metadata": {},
   "source": [
    "## Create silhouette score to find best k values "
   ]
  },
  {
   "cell_type": "code",
   "execution_count": 55,
   "metadata": {},
   "outputs": [],
   "source": [
    "mydf_mod1 = mydf"
   ]
  },
  {
   "cell_type": "code",
   "execution_count": 56,
   "metadata": {},
   "outputs": [],
   "source": [
    "from sklearn.metrics import silhouette_score\n",
    "sse_ = []\n",
    "for k in range(2, 15):\n",
    "    kmeans = KMeans(n_clusters=k).fit(mydf_mod1)\n",
    "    sse_.append([k, silhouette_score(mydf_mod1, kmeans.labels_)])"
   ]
  },
  {
   "cell_type": "code",
   "execution_count": 57,
   "metadata": {},
   "outputs": [
    {
     "data": {
      "image/png": "[encoded data removed]",
      "text/plain": [
       "<Figure size 432x288 with 1 Axes>"
      ]
     },
     "metadata": {
      "needs_background": "light"
     },
     "output_type": "display_data"
    }
   ],
   "source": [
    "plt.plot(pd.DataFrame(sse_)[0], pd.DataFrame(sse_)[1]);"
   ]
  },
  {
   "cell_type": "code",
   "execution_count": 58,
   "metadata": {},
   "outputs": [
    {
     "data": {
      "text/plain": [
       "[<matplotlib.lines.Line2D at 0x2f6befb2c88>]"
      ]
     },
     "execution_count": 58,
     "metadata": {},
     "output_type": "execute_result"
    },
    {
     "data": {
      "image/png": "[encoded data removed]",
      "text/plain": [
       "<Figure size 432x288 with 1 Axes>"
      ]
     },
     "metadata": {
      "needs_background": "light"
     },
     "output_type": "display_data"
    }
   ],
   "source": [
    "## From the above analysis we find that 2 seems to be a good number of clusters for K means algorithm\n",
    "#Now let's proceed to the elbow curve method\n",
    "ssd = []\n",
    "for num_cluster in list(range(1,10)):\n",
    "    model_clus = KMeans(n_clusters = num_cluster, max_iter = 50)\n",
    "    model_clus.fit(mydf_mod1)\n",
    "    ssd.append(model_clus.inertia_)\n",
    "    \n",
    "plt.plot(ssd)"
   ]
  },
  {
   "cell_type": "markdown",
   "metadata": {},
   "source": [
    "## elbow diagram showing most bend at cordinate 3 so we are going to consider k =3 on the base of elbow and silhouette diagram"
   ]
  },
  {
   "cell_type": "code",
   "execution_count": 59,
   "metadata": {},
   "outputs": [
    {
     "data": {
      "text/plain": [
       "KMeans(algorithm='auto', copy_x=True, init='k-means++', max_iter=50,\n",
       "    n_clusters=3, n_init=10, n_jobs=1, precompute_distances='auto',\n",
       "    random_state=50, tol=0.0001, verbose=0)"
      ]
     },
     "execution_count": 59,
     "metadata": {},
     "output_type": "execute_result"
    }
   ],
   "source": [
    "## Create Cluster model using k = 3\n",
    "#c_data.index = pd.RangeIndex(len(c_data.index))\n",
    "my_cluster1 = KMeans(n_clusters=3, max_iter=50, random_state=50)\n",
    "my_cluster1.fit(mydf_mod1)"
   ]
  },
  {
   "cell_type": "code",
   "execution_count": 60,
   "metadata": {},
   "outputs": [
    {
     "data": {
      "text/plain": [
       "Int64Index([  1,   2,   3,   4,   5,   6,   9,  10,  11,  12,\n",
       "            ...\n",
       "            153, 154, 155, 156, 160, 161, 162, 164, 165, 166],\n",
       "           dtype='int64', length=119)"
      ]
     },
     "execution_count": 60,
     "metadata": {},
     "output_type": "execute_result"
    }
   ],
   "source": [
    "c_data.index"
   ]
  },
  {
   "cell_type": "code",
   "execution_count": 61,
   "metadata": {},
   "outputs": [],
   "source": [
    "c_data.index = pd.RangeIndex(len(c_data.index))"
   ]
  },
  {
   "cell_type": "code",
   "execution_count": 62,
   "metadata": {},
   "outputs": [
    {
     "data": {
      "text/plain": [
       "array([1, 1, 0, 2, 1, 1, 1, 2, 2, 1, 2, 1, 1, 0, 1, 1, 2, 1, 2, 0, 1, 0,\n",
       "       1, 0, 2, 1, 1, 0, 0, 0, 2, 0, 2, 2, 1, 1, 1, 1, 2, 1, 1, 0, 1, 0,\n",
       "       2, 1, 1, 0, 0, 1, 0, 2, 1, 1, 1, 1, 2, 1, 1, 1, 0, 0, 1, 0, 2, 2,\n",
       "       2, 2, 1, 0, 0, 2, 0, 0, 2, 1, 2, 1, 0, 1, 0, 0, 2, 1, 1, 1, 2, 2,\n",
       "       1, 1, 1, 0, 2, 2, 2, 1, 1, 2, 2, 1, 1, 0, 1, 1, 0, 1, 0, 1, 1, 1,\n",
       "       1, 0, 1, 2, 1, 1, 1, 0, 0])"
      ]
     },
     "execution_count": 62,
     "metadata": {},
     "output_type": "execute_result"
    }
   ],
   "source": [
    "my_cluster1.labels_"
   ]
  },
  {
   "cell_type": "code",
   "execution_count": 63,
   "metadata": {},
   "outputs": [
    {
     "data": {
      "text/html": [
       "<div>\n",
       "<style scoped>\n",
       "    .dataframe tbody tr th:only-of-type {\n",
       "        vertical-align: middle;\n",
       "    }\n",
       "\n",
       "    .dataframe tbody tr th {\n",
       "        vertical-align: top;\n",
       "    }\n",
       "\n",
       "    .dataframe thead th {\n",
       "        text-align: right;\n",
       "    }\n",
       "</style>\n",
       "<table border=\"1\" class=\"dataframe\">\n",
       "  <thead>\n",
       "    <tr style=\"text-align: right;\">\n",
       "      <th></th>\n",
       "      <th>country</th>\n",
       "      <th>child_mort</th>\n",
       "      <th>exports</th>\n",
       "      <th>health</th>\n",
       "      <th>imports</th>\n",
       "      <th>income</th>\n",
       "      <th>inflation</th>\n",
       "      <th>life_expec</th>\n",
       "      <th>total_fer</th>\n",
       "      <th>gdpp</th>\n",
       "      <th>cluster_id</th>\n",
       "    </tr>\n",
       "  </thead>\n",
       "  <tbody>\n",
       "    <tr>\n",
       "      <th>0</th>\n",
       "      <td>Albania</td>\n",
       "      <td>16.6</td>\n",
       "      <td>28.0</td>\n",
       "      <td>6.55</td>\n",
       "      <td>48.6</td>\n",
       "      <td>9930</td>\n",
       "      <td>4.490</td>\n",
       "      <td>76.3</td>\n",
       "      <td>1.65</td>\n",
       "      <td>4090</td>\n",
       "      <td>1</td>\n",
       "    </tr>\n",
       "    <tr>\n",
       "      <th>1</th>\n",
       "      <td>Algeria</td>\n",
       "      <td>27.3</td>\n",
       "      <td>38.4</td>\n",
       "      <td>4.17</td>\n",
       "      <td>31.4</td>\n",
       "      <td>12900</td>\n",
       "      <td>16.100</td>\n",
       "      <td>76.5</td>\n",
       "      <td>2.89</td>\n",
       "      <td>4460</td>\n",
       "      <td>1</td>\n",
       "    </tr>\n",
       "    <tr>\n",
       "      <th>2</th>\n",
       "      <td>Angola</td>\n",
       "      <td>119.0</td>\n",
       "      <td>62.3</td>\n",
       "      <td>2.85</td>\n",
       "      <td>42.9</td>\n",
       "      <td>5900</td>\n",
       "      <td>22.400</td>\n",
       "      <td>60.1</td>\n",
       "      <td>6.16</td>\n",
       "      <td>3530</td>\n",
       "      <td>0</td>\n",
       "    </tr>\n",
       "    <tr>\n",
       "      <th>3</th>\n",
       "      <td>Antigua and Barbuda</td>\n",
       "      <td>10.3</td>\n",
       "      <td>45.5</td>\n",
       "      <td>6.03</td>\n",
       "      <td>58.9</td>\n",
       "      <td>19100</td>\n",
       "      <td>1.440</td>\n",
       "      <td>76.8</td>\n",
       "      <td>2.13</td>\n",
       "      <td>12200</td>\n",
       "      <td>2</td>\n",
       "    </tr>\n",
       "    <tr>\n",
       "      <th>4</th>\n",
       "      <td>Argentina</td>\n",
       "      <td>14.5</td>\n",
       "      <td>18.9</td>\n",
       "      <td>8.10</td>\n",
       "      <td>16.0</td>\n",
       "      <td>18700</td>\n",
       "      <td>20.900</td>\n",
       "      <td>75.8</td>\n",
       "      <td>2.37</td>\n",
       "      <td>10300</td>\n",
       "      <td>1</td>\n",
       "    </tr>\n",
       "    <tr>\n",
       "      <th>5</th>\n",
       "      <td>Armenia</td>\n",
       "      <td>18.1</td>\n",
       "      <td>20.8</td>\n",
       "      <td>4.40</td>\n",
       "      <td>45.3</td>\n",
       "      <td>6700</td>\n",
       "      <td>7.770</td>\n",
       "      <td>73.3</td>\n",
       "      <td>1.69</td>\n",
       "      <td>3220</td>\n",
       "      <td>1</td>\n",
       "    </tr>\n",
       "    <tr>\n",
       "      <th>6</th>\n",
       "      <td>Azerbaijan</td>\n",
       "      <td>39.2</td>\n",
       "      <td>54.3</td>\n",
       "      <td>5.88</td>\n",
       "      <td>20.7</td>\n",
       "      <td>16000</td>\n",
       "      <td>13.800</td>\n",
       "      <td>69.1</td>\n",
       "      <td>1.92</td>\n",
       "      <td>5840</td>\n",
       "      <td>1</td>\n",
       "    </tr>\n",
       "    <tr>\n",
       "      <th>7</th>\n",
       "      <td>Bahamas</td>\n",
       "      <td>13.8</td>\n",
       "      <td>35.0</td>\n",
       "      <td>7.89</td>\n",
       "      <td>43.7</td>\n",
       "      <td>22900</td>\n",
       "      <td>-0.393</td>\n",
       "      <td>73.8</td>\n",
       "      <td>1.86</td>\n",
       "      <td>28000</td>\n",
       "      <td>2</td>\n",
       "    </tr>\n",
       "    <tr>\n",
       "      <th>8</th>\n",
       "      <td>Bahrain</td>\n",
       "      <td>8.6</td>\n",
       "      <td>69.5</td>\n",
       "      <td>4.97</td>\n",
       "      <td>50.9</td>\n",
       "      <td>41100</td>\n",
       "      <td>7.440</td>\n",
       "      <td>76.0</td>\n",
       "      <td>2.16</td>\n",
       "      <td>20700</td>\n",
       "      <td>2</td>\n",
       "    </tr>\n",
       "    <tr>\n",
       "      <th>9</th>\n",
       "      <td>Bangladesh</td>\n",
       "      <td>49.4</td>\n",
       "      <td>16.0</td>\n",
       "      <td>3.52</td>\n",
       "      <td>21.8</td>\n",
       "      <td>2440</td>\n",
       "      <td>7.140</td>\n",
       "      <td>70.4</td>\n",
       "      <td>2.33</td>\n",
       "      <td>758</td>\n",
       "      <td>1</td>\n",
       "    </tr>\n",
       "  </tbody>\n",
       "</table>\n",
       "</div>"
      ],
      "text/plain": [
       "               country  child_mort  exports  health  imports  income  \\\n",
       "0              Albania        16.6     28.0    6.55     48.6    9930   \n",
       "1              Algeria        27.3     38.4    4.17     31.4   12900   \n",
       "2               Angola       119.0     62.3    2.85     42.9    5900   \n",
       "3  Antigua and Barbuda        10.3     45.5    6.03     58.9   19100   \n",
       "4            Argentina        14.5     18.9    8.10     16.0   18700   \n",
       "5              Armenia        18.1     20.8    4.40     45.3    6700   \n",
       "6           Azerbaijan        39.2     54.3    5.88     20.7   16000   \n",
       "7              Bahamas        13.8     35.0    7.89     43.7   22900   \n",
       "8              Bahrain         8.6     69.5    4.97     50.9   41100   \n",
       "9           Bangladesh        49.4     16.0    3.52     21.8    2440   \n",
       "\n",
       "   inflation  life_expec  total_fer   gdpp  cluster_id  \n",
       "0      4.490        76.3       1.65   4090           1  \n",
       "1     16.100        76.5       2.89   4460           1  \n",
       "2     22.400        60.1       6.16   3530           0  \n",
       "3      1.440        76.8       2.13  12200           2  \n",
       "4     20.900        75.8       2.37  10300           1  \n",
       "5      7.770        73.3       1.69   3220           1  \n",
       "6     13.800        69.1       1.92   5840           1  \n",
       "7     -0.393        73.8       1.86  28000           2  \n",
       "8      7.440        76.0       2.16  20700           2  \n",
       "9      7.140        70.4       2.33    758           1  "
      ]
     },
     "execution_count": 63,
     "metadata": {},
     "output_type": "execute_result"
    }
   ],
   "source": [
    "c_data.index = pd.RangeIndex(len(c_data.index))\n",
    "c_data_km = pd.concat([c_data, pd.Series(my_cluster1.labels_)], axis=1)\n",
    "c_data_km.rename(columns={0:'cluster_id'}, inplace=True)\n",
    "c_data_km.head(10)\n"
   ]
  },
  {
   "cell_type": "markdown",
   "metadata": {},
   "source": [
    "## clusters must be visualised some of the original variables"
   ]
  },
  {
   "cell_type": "code",
   "execution_count": 64,
   "metadata": {},
   "outputs": [
    {
     "data": {
      "text/plain": [
       "<Figure size 576x576 with 0 Axes>"
      ]
     },
     "metadata": {},
     "output_type": "display_data"
    },
    {
     "data": {
      "image/png": "[encoded data removed]",
      "text/plain": [
       "<Figure size 432x288 with 1 Axes>"
      ]
     },
     "metadata": {
      "needs_background": "light"
     },
     "output_type": "display_data"
    }
   ],
   "source": [
    "### cluster representation on the \"c_data_km['child_mort'] & y = c_data_km['gdpp']\" features\n",
    "import pylab as pl\n",
    "%matplotlib inline\n",
    "fig = plt.figure(figsize = (8,8))\n",
    "pl.figure('K-means with 3 clusters')\n",
    "pl.scatter(x= c_data_km['child_mort'], y = c_data_km['gdpp'], c=c_data_km['cluster_id'])\n",
    "#pl.scatter(x= c_data_km['child_mort'], y = c_data_km['exports'], c=c_data_km['cluster_id'])\n",
    "#pl.legend()\n",
    "pl.show()"
   ]
  },
  {
   "cell_type": "code",
   "execution_count": 65,
   "metadata": {},
   "outputs": [
    {
     "data": {
      "text/plain": [
       "<Figure size 576x576 with 0 Axes>"
      ]
     },
     "metadata": {},
     "output_type": "display_data"
    },
    {
     "data": {
      "image/png": "[encoded data removed]",
      "text/plain": [
       "<Figure size 432x288 with 1 Axes>"
      ]
     },
     "metadata": {
      "needs_background": "light"
     },
     "output_type": "display_data"
    }
   ],
   "source": [
    "import pylab as pl\n",
    "%matplotlib inline\n",
    "fig = plt.figure(figsize = (8,8))\n",
    "pl.figure('K-means with 3 clusters')\n",
    "pl.scatter(x= c_data_km['child_mort'], y = c_data_km['exports'], c=c_data_km['cluster_id'])\n",
    "#pl.scatter(x= c_data_km['child_mort'], y = c_data_km['exports'], c=c_data_km['cluster_id'])\n",
    "#pl.legend()\n",
    "pl.show()"
   ]
  },
  {
   "cell_type": "code",
   "execution_count": 66,
   "metadata": {},
   "outputs": [
    {
     "data": {
      "text/plain": [
       "<Figure size 576x576 with 0 Axes>"
      ]
     },
     "metadata": {},
     "output_type": "display_data"
    },
    {
     "data": {
      "image/png": "[encoded data removed]",
      "text/plain": [
       "<Figure size 432x288 with 1 Axes>"
      ]
     },
     "metadata": {
      "needs_background": "light"
     },
     "output_type": "display_data"
    }
   ],
   "source": [
    "fig = plt.figure(figsize = (8,8))\n",
    "pl.figure('K-means with 3 clusters')\n",
    "pl.scatter(x= c_data_km['life_expec'], y = c_data_km['health'], c=c_data_km['cluster_id'])\n",
    "#pl.scatter(x= c_data_km['child_mort'], y = c_data_km['exports'], c=c_data_km['cluster_id'])\n",
    "#pl.legend()\n",
    "pl.show()"
   ]
  },
  {
   "cell_type": "code",
   "execution_count": 67,
   "metadata": {},
   "outputs": [],
   "source": [
    "labels = my_cluster1.labels_\n",
    "#labels"
   ]
  },
  {
   "cell_type": "code",
   "execution_count": 68,
   "metadata": {},
   "outputs": [
    {
     "data": {
      "text/plain": [
       "array([-0.85548172,  0.0474947 ,  3.1697426 , -2.05418589, -0.76679328,\n",
       "       -0.02997974, -0.31958379, -3.098804  , -3.51425223,  1.26145884,\n",
       "       -2.25043519, -1.06288275, -0.57761073,  2.77434448,  0.0137568 ,\n",
       "        0.73989993, -1.720037  ,  0.30619244, -1.67085829,  3.20997866,\n",
       "        0.53567314,  2.83229342, -0.03813668,  3.73882606, -2.00619677,\n",
       "       -0.38488647, -0.71482322,  2.21843508,  3.42956315,  1.95252066,\n",
       "       -1.81604575,  2.63372745, -2.34893186, -3.7813137 , -0.23010986,\n",
       "       -0.47053582,  0.68415793, -0.42730252, -2.8960767 , -0.05541266,\n",
       "        1.02521065,  2.27680427, -0.73225155,  2.24474095, -3.85256959,\n",
       "       -0.73551918,  0.39806009,  3.27659771,  2.78404059,  0.15888956,\n",
       "        4.57242875, -3.06826808,  1.41405591,  0.9864328 , -0.51388753,\n",
       "        0.62288569, -3.57554083, -0.24148512, -0.57204821, -0.26984751,\n",
       "        1.90267914,  0.95649551,  0.35741361,  1.61641249, -2.22685574,\n",
       "       -2.05620859, -1.85648271, -2.53135138, -1.28748054,  2.36840503,\n",
       "        3.16053318, -1.72026304,  3.54689645,  2.20428052, -1.67373584,\n",
       "       -0.8247692 , -1.84389148, -0.016168  ,  3.11074003,  0.64857633,\n",
       "        3.59846898,  2.60176735, -2.02508534, -0.38989483, -0.35471256,\n",
       "        0.718733  , -2.40588575, -3.72027648, -1.34591655, -0.99247718,\n",
       "        0.28056736,  1.90012684, -1.56861684, -3.56717851, -4.22734267,\n",
       "        0.69255279,  0.5576522 , -3.67331423, -4.31956328,  0.69114948,\n",
       "       -0.40766777,  2.47639844, -0.86588504,  1.37247216,  2.66267174,\n",
       "       -1.39549819,  1.93578793,  0.60064452, -1.05331314, -1.27657361,\n",
       "        0.19747693,  2.86622417, -0.56503942, -1.63156747,  0.92120903,\n",
       "        0.70150884, -0.58923012,  2.11812537,  2.99015797])"
      ]
     },
     "execution_count": 68,
     "metadata": {},
     "output_type": "execute_result"
    }
   ],
   "source": [
    "#centroids = model_clus5.cluster_centers_\n",
    "#centroids\n",
    "df_train_pca[:, 0]"
   ]
  },
  {
   "cell_type": "code",
   "execution_count": 69,
   "metadata": {},
   "outputs": [
    {
     "data": {
      "text/plain": [
       "1    58\n",
       "0    31\n",
       "2    30\n",
       "Name: cluster_id, dtype: int64"
      ]
     },
     "execution_count": 69,
     "metadata": {},
     "output_type": "execute_result"
    }
   ],
   "source": [
    "c_data_km['cluster_id'].value_counts()"
   ]
  },
  {
   "cell_type": "code",
   "execution_count": 70,
   "metadata": {},
   "outputs": [],
   "source": [
    "#fig = plt.figure(figsize = (8,8))\n",
    "#sns.scatterplot(x='A',y='B',hue='cluster_id',legend='full',data=c_data_km)"
   ]
  },
  {
   "cell_type": "markdown",
   "metadata": {},
   "source": [
    "## clusters  visualised on Principal Components"
   ]
  },
  {
   "cell_type": "code",
   "execution_count": 71,
   "metadata": {},
   "outputs": [
    {
     "data": {
      "text/plain": [
       "<Figure size 576x576 with 0 Axes>"
      ]
     },
     "metadata": {},
     "output_type": "display_data"
    },
    {
     "data": {
      "image/png": "[encoded data removed]",
      "text/plain": [
       "<Figure size 432x288 with 1 Axes>"
      ]
     },
     "metadata": {
      "needs_background": "light"
     },
     "output_type": "display_data"
    }
   ],
   "source": [
    "import pylab as pl\n",
    "%matplotlib inline\n",
    "fig = plt.figure(figsize = (8,8))\n",
    "pl.figure('K-means with 3 clusters')\n",
    "pl.scatter(df_train_pca[:, 0], df_train_pca[:, 1], c=labels)\n",
    "pl.show()"
   ]
  },
  {
   "cell_type": "code",
   "execution_count": 109,
   "metadata": {},
   "outputs": [
    {
     "data": {
      "image/png": "[encoded data removed]",
      "text/plain": [
       "<Figure size 432x288 with 1 Axes>"
      ]
     },
     "metadata": {
      "needs_background": "light"
     },
     "output_type": "display_data"
    }
   ],
   "source": [
    "import pylab as pl\n",
    "for i in range(0, df_train_pca.shape[0]):\n",
    "    if c_data_km.cluster_id[i] == 0:\n",
    "        c1 = pl.scatter(df_train_pca[i,0],df_train_pca[i,1],c='r',marker='+')\n",
    "    elif c_data_km.cluster_id[i] == 1:\n",
    "        c2 = pl.scatter(df_train_pca[i,0],df_train_pca[i,1],c='g',marker='o')\n",
    "    elif c_data_km.cluster_id[i] == 2:\n",
    "        c3 = pl.scatter(df_train_pca[i,0],df_train_pca[i,1],c='b',marker='*')\n",
    "    #elif c_data_km.Cluster_id[i] == 3:\n",
    "     #   c4 = pl.scatter(df_train_pca[i,0],df_train_pca[i,1],c='y',marker='*')\n",
    "pl.legend([c1, c2, c3], ['cluster1', 'cluster2','cluster3'])\n",
    "pl.title('Country dataset with 3 clusters and known outcomes')\n",
    "pl.show()"
   ]
  },
  {
   "cell_type": "code",
   "execution_count": 73,
   "metadata": {},
   "outputs": [
    {
     "data": {
      "text/plain": [
       "cluster_id\n",
       "0    31\n",
       "1    58\n",
       "2    30\n",
       "dtype: int64"
      ]
     },
     "execution_count": 73,
     "metadata": {},
     "output_type": "execute_result"
    }
   ],
   "source": [
    "c_data_km.groupby('cluster_id').size()"
   ]
  },
  {
   "cell_type": "code",
   "execution_count": 74,
   "metadata": {},
   "outputs": [],
   "source": [
    "#c_data_km = pd.merge(n_df, c_data_km, left_index=True, right_index=True)\n",
    "#c_data_km.head()"
   ]
  },
  {
   "cell_type": "code",
   "execution_count": 75,
   "metadata": {},
   "outputs": [],
   "source": [
    "#c_data_km = c_data_km.drop(['A','B','C','D'], axis=1)\n",
    "#c_data_km.head()"
   ]
  },
  {
   "cell_type": "code",
   "execution_count": 76,
   "metadata": {},
   "outputs": [],
   "source": [
    "c1 = c_data_km.loc[c_data_km['cluster_id']==0]\n",
    "c2 = c_data_km.loc[c_data_km['cluster_id']==1]\n",
    "c3 = c_data_km.loc[c_data_km['cluster_id']==2]\n",
    "#c4 = c_data_km.loc[c_data_km['Cluster_id']==3]\n",
    "\n"
   ]
  },
  {
   "cell_type": "code",
   "execution_count": 77,
   "metadata": {},
   "outputs": [
    {
     "data": {
      "text/html": [
       "<div>\n",
       "<style scoped>\n",
       "    .dataframe tbody tr th:only-of-type {\n",
       "        vertical-align: middle;\n",
       "    }\n",
       "\n",
       "    .dataframe tbody tr th {\n",
       "        vertical-align: top;\n",
       "    }\n",
       "\n",
       "    .dataframe thead th {\n",
       "        text-align: right;\n",
       "    }\n",
       "</style>\n",
       "<table border=\"1\" class=\"dataframe\">\n",
       "  <thead>\n",
       "    <tr style=\"text-align: right;\">\n",
       "      <th></th>\n",
       "      <th>country</th>\n",
       "      <th>child_mort</th>\n",
       "      <th>exports</th>\n",
       "      <th>health</th>\n",
       "      <th>imports</th>\n",
       "      <th>income</th>\n",
       "      <th>inflation</th>\n",
       "      <th>life_expec</th>\n",
       "      <th>total_fer</th>\n",
       "      <th>gdpp</th>\n",
       "      <th>cluster_id</th>\n",
       "    </tr>\n",
       "  </thead>\n",
       "  <tbody>\n",
       "    <tr>\n",
       "      <th>2</th>\n",
       "      <td>Angola</td>\n",
       "      <td>119.0</td>\n",
       "      <td>62.3</td>\n",
       "      <td>2.85</td>\n",
       "      <td>42.9</td>\n",
       "      <td>5900</td>\n",
       "      <td>22.400</td>\n",
       "      <td>60.1</td>\n",
       "      <td>6.16</td>\n",
       "      <td>3530</td>\n",
       "      <td>0</td>\n",
       "    </tr>\n",
       "    <tr>\n",
       "      <th>13</th>\n",
       "      <td>Benin</td>\n",
       "      <td>111.0</td>\n",
       "      <td>23.8</td>\n",
       "      <td>4.10</td>\n",
       "      <td>37.2</td>\n",
       "      <td>1820</td>\n",
       "      <td>0.885</td>\n",
       "      <td>61.8</td>\n",
       "      <td>5.36</td>\n",
       "      <td>758</td>\n",
       "      <td>0</td>\n",
       "    </tr>\n",
       "    <tr>\n",
       "      <th>19</th>\n",
       "      <td>Burkina Faso</td>\n",
       "      <td>116.0</td>\n",
       "      <td>19.2</td>\n",
       "      <td>6.74</td>\n",
       "      <td>29.6</td>\n",
       "      <td>1430</td>\n",
       "      <td>6.810</td>\n",
       "      <td>57.9</td>\n",
       "      <td>5.87</td>\n",
       "      <td>575</td>\n",
       "      <td>0</td>\n",
       "    </tr>\n",
       "    <tr>\n",
       "      <th>21</th>\n",
       "      <td>Cameroon</td>\n",
       "      <td>108.0</td>\n",
       "      <td>22.2</td>\n",
       "      <td>5.13</td>\n",
       "      <td>27.0</td>\n",
       "      <td>2660</td>\n",
       "      <td>1.910</td>\n",
       "      <td>57.3</td>\n",
       "      <td>5.11</td>\n",
       "      <td>1310</td>\n",
       "      <td>0</td>\n",
       "    </tr>\n",
       "    <tr>\n",
       "      <th>23</th>\n",
       "      <td>Chad</td>\n",
       "      <td>150.0</td>\n",
       "      <td>36.8</td>\n",
       "      <td>4.53</td>\n",
       "      <td>43.5</td>\n",
       "      <td>1930</td>\n",
       "      <td>6.390</td>\n",
       "      <td>56.5</td>\n",
       "      <td>6.59</td>\n",
       "      <td>897</td>\n",
       "      <td>0</td>\n",
       "    </tr>\n",
       "    <tr>\n",
       "      <th>27</th>\n",
       "      <td>Comoros</td>\n",
       "      <td>88.2</td>\n",
       "      <td>16.5</td>\n",
       "      <td>4.51</td>\n",
       "      <td>51.7</td>\n",
       "      <td>1410</td>\n",
       "      <td>3.870</td>\n",
       "      <td>65.9</td>\n",
       "      <td>4.75</td>\n",
       "      <td>769</td>\n",
       "      <td>0</td>\n",
       "    </tr>\n",
       "    <tr>\n",
       "      <th>28</th>\n",
       "      <td>Congo, Dem. Rep.</td>\n",
       "      <td>116.0</td>\n",
       "      <td>41.1</td>\n",
       "      <td>7.91</td>\n",
       "      <td>49.6</td>\n",
       "      <td>609</td>\n",
       "      <td>20.800</td>\n",
       "      <td>57.5</td>\n",
       "      <td>6.54</td>\n",
       "      <td>334</td>\n",
       "      <td>0</td>\n",
       "    </tr>\n",
       "    <tr>\n",
       "      <th>29</th>\n",
       "      <td>Congo, Rep.</td>\n",
       "      <td>63.9</td>\n",
       "      <td>85.1</td>\n",
       "      <td>2.46</td>\n",
       "      <td>54.7</td>\n",
       "      <td>5190</td>\n",
       "      <td>20.700</td>\n",
       "      <td>60.4</td>\n",
       "      <td>4.95</td>\n",
       "      <td>2740</td>\n",
       "      <td>0</td>\n",
       "    </tr>\n",
       "    <tr>\n",
       "      <th>31</th>\n",
       "      <td>Cote d'Ivoire</td>\n",
       "      <td>111.0</td>\n",
       "      <td>50.6</td>\n",
       "      <td>5.30</td>\n",
       "      <td>43.3</td>\n",
       "      <td>2690</td>\n",
       "      <td>5.390</td>\n",
       "      <td>56.3</td>\n",
       "      <td>5.27</td>\n",
       "      <td>1220</td>\n",
       "      <td>0</td>\n",
       "    </tr>\n",
       "    <tr>\n",
       "      <th>41</th>\n",
       "      <td>Gambia</td>\n",
       "      <td>80.3</td>\n",
       "      <td>23.8</td>\n",
       "      <td>5.69</td>\n",
       "      <td>42.7</td>\n",
       "      <td>1660</td>\n",
       "      <td>4.300</td>\n",
       "      <td>65.5</td>\n",
       "      <td>5.71</td>\n",
       "      <td>562</td>\n",
       "      <td>0</td>\n",
       "    </tr>\n",
       "  </tbody>\n",
       "</table>\n",
       "</div>"
      ],
      "text/plain": [
       "             country  child_mort  exports  health  imports  income  inflation  \\\n",
       "2             Angola       119.0     62.3    2.85     42.9    5900     22.400   \n",
       "13             Benin       111.0     23.8    4.10     37.2    1820      0.885   \n",
       "19      Burkina Faso       116.0     19.2    6.74     29.6    1430      6.810   \n",
       "21          Cameroon       108.0     22.2    5.13     27.0    2660      1.910   \n",
       "23              Chad       150.0     36.8    4.53     43.5    1930      6.390   \n",
       "27           Comoros        88.2     16.5    4.51     51.7    1410      3.870   \n",
       "28  Congo, Dem. Rep.       116.0     41.1    7.91     49.6     609     20.800   \n",
       "29       Congo, Rep.        63.9     85.1    2.46     54.7    5190     20.700   \n",
       "31     Cote d'Ivoire       111.0     50.6    5.30     43.3    2690      5.390   \n",
       "41            Gambia        80.3     23.8    5.69     42.7    1660      4.300   \n",
       "\n",
       "    life_expec  total_fer  gdpp  cluster_id  \n",
       "2         60.1       6.16  3530           0  \n",
       "13        61.8       5.36   758           0  \n",
       "19        57.9       5.87   575           0  \n",
       "21        57.3       5.11  1310           0  \n",
       "23        56.5       6.59   897           0  \n",
       "27        65.9       4.75   769           0  \n",
       "28        57.5       6.54   334           0  \n",
       "29        60.4       4.95  2740           0  \n",
       "31        56.3       5.27  1220           0  \n",
       "41        65.5       5.71   562           0  "
      ]
     },
     "execution_count": 77,
     "metadata": {},
     "output_type": "execute_result"
    }
   ],
   "source": [
    "c1.head(10)"
   ]
  },
  {
   "cell_type": "markdown",
   "metadata": {},
   "source": [
    "## Analysis of the clusters"
   ]
  },
  {
   "cell_type": "code",
   "execution_count": 78,
   "metadata": {},
   "outputs": [
    {
     "data": {
      "text/html": [
       "<div>\n",
       "<style scoped>\n",
       "    .dataframe tbody tr th:only-of-type {\n",
       "        vertical-align: middle;\n",
       "    }\n",
       "\n",
       "    .dataframe tbody tr th {\n",
       "        vertical-align: top;\n",
       "    }\n",
       "\n",
       "    .dataframe thead th {\n",
       "        text-align: right;\n",
       "    }\n",
       "</style>\n",
       "<table border=\"1\" class=\"dataframe\">\n",
       "  <thead>\n",
       "    <tr style=\"text-align: right;\">\n",
       "      <th></th>\n",
       "      <th>country</th>\n",
       "      <th>child_mort</th>\n",
       "      <th>exports</th>\n",
       "      <th>health</th>\n",
       "      <th>imports</th>\n",
       "      <th>income</th>\n",
       "      <th>inflation</th>\n",
       "      <th>life_expec</th>\n",
       "      <th>total_fer</th>\n",
       "      <th>gdpp</th>\n",
       "      <th>cluster_id</th>\n",
       "    </tr>\n",
       "  </thead>\n",
       "  <tbody>\n",
       "    <tr>\n",
       "      <th>3</th>\n",
       "      <td>Antigua and Barbuda</td>\n",
       "      <td>10.3</td>\n",
       "      <td>45.5</td>\n",
       "      <td>6.03</td>\n",
       "      <td>58.9</td>\n",
       "      <td>19100</td>\n",
       "      <td>1.440</td>\n",
       "      <td>76.8</td>\n",
       "      <td>2.13</td>\n",
       "      <td>12200</td>\n",
       "      <td>2</td>\n",
       "    </tr>\n",
       "    <tr>\n",
       "      <th>7</th>\n",
       "      <td>Bahamas</td>\n",
       "      <td>13.8</td>\n",
       "      <td>35.0</td>\n",
       "      <td>7.89</td>\n",
       "      <td>43.7</td>\n",
       "      <td>22900</td>\n",
       "      <td>-0.393</td>\n",
       "      <td>73.8</td>\n",
       "      <td>1.86</td>\n",
       "      <td>28000</td>\n",
       "      <td>2</td>\n",
       "    </tr>\n",
       "    <tr>\n",
       "      <th>8</th>\n",
       "      <td>Bahrain</td>\n",
       "      <td>8.6</td>\n",
       "      <td>69.5</td>\n",
       "      <td>4.97</td>\n",
       "      <td>50.9</td>\n",
       "      <td>41100</td>\n",
       "      <td>7.440</td>\n",
       "      <td>76.0</td>\n",
       "      <td>2.16</td>\n",
       "      <td>20700</td>\n",
       "      <td>2</td>\n",
       "    </tr>\n",
       "    <tr>\n",
       "      <th>10</th>\n",
       "      <td>Barbados</td>\n",
       "      <td>14.2</td>\n",
       "      <td>39.5</td>\n",
       "      <td>7.97</td>\n",
       "      <td>48.7</td>\n",
       "      <td>15300</td>\n",
       "      <td>0.321</td>\n",
       "      <td>76.7</td>\n",
       "      <td>1.78</td>\n",
       "      <td>16000</td>\n",
       "      <td>2</td>\n",
       "    </tr>\n",
       "    <tr>\n",
       "      <th>16</th>\n",
       "      <td>Bosnia and Herzegovina</td>\n",
       "      <td>6.9</td>\n",
       "      <td>29.7</td>\n",
       "      <td>11.10</td>\n",
       "      <td>51.3</td>\n",
       "      <td>9720</td>\n",
       "      <td>1.400</td>\n",
       "      <td>76.8</td>\n",
       "      <td>1.31</td>\n",
       "      <td>4610</td>\n",
       "      <td>2</td>\n",
       "    </tr>\n",
       "    <tr>\n",
       "      <th>18</th>\n",
       "      <td>Bulgaria</td>\n",
       "      <td>10.8</td>\n",
       "      <td>50.2</td>\n",
       "      <td>6.87</td>\n",
       "      <td>53.0</td>\n",
       "      <td>15300</td>\n",
       "      <td>1.110</td>\n",
       "      <td>73.9</td>\n",
       "      <td>1.57</td>\n",
       "      <td>6840</td>\n",
       "      <td>2</td>\n",
       "    </tr>\n",
       "    <tr>\n",
       "      <th>24</th>\n",
       "      <td>Chile</td>\n",
       "      <td>8.7</td>\n",
       "      <td>37.7</td>\n",
       "      <td>7.96</td>\n",
       "      <td>31.3</td>\n",
       "      <td>19400</td>\n",
       "      <td>8.960</td>\n",
       "      <td>79.1</td>\n",
       "      <td>1.88</td>\n",
       "      <td>12900</td>\n",
       "      <td>2</td>\n",
       "    </tr>\n",
       "    <tr>\n",
       "      <th>30</th>\n",
       "      <td>Costa Rica</td>\n",
       "      <td>10.2</td>\n",
       "      <td>33.2</td>\n",
       "      <td>10.90</td>\n",
       "      <td>35.0</td>\n",
       "      <td>13000</td>\n",
       "      <td>6.570</td>\n",
       "      <td>80.4</td>\n",
       "      <td>1.92</td>\n",
       "      <td>8200</td>\n",
       "      <td>2</td>\n",
       "    </tr>\n",
       "    <tr>\n",
       "      <th>32</th>\n",
       "      <td>Croatia</td>\n",
       "      <td>5.5</td>\n",
       "      <td>37.6</td>\n",
       "      <td>7.76</td>\n",
       "      <td>38.1</td>\n",
       "      <td>20100</td>\n",
       "      <td>0.821</td>\n",
       "      <td>76.3</td>\n",
       "      <td>1.55</td>\n",
       "      <td>13500</td>\n",
       "      <td>2</td>\n",
       "    </tr>\n",
       "    <tr>\n",
       "      <th>33</th>\n",
       "      <td>Czech Republic</td>\n",
       "      <td>3.4</td>\n",
       "      <td>66.0</td>\n",
       "      <td>7.88</td>\n",
       "      <td>62.9</td>\n",
       "      <td>28300</td>\n",
       "      <td>-1.430</td>\n",
       "      <td>77.5</td>\n",
       "      <td>1.51</td>\n",
       "      <td>19800</td>\n",
       "      <td>2</td>\n",
       "    </tr>\n",
       "    <tr>\n",
       "      <th>38</th>\n",
       "      <td>Estonia</td>\n",
       "      <td>4.5</td>\n",
       "      <td>75.1</td>\n",
       "      <td>6.03</td>\n",
       "      <td>68.7</td>\n",
       "      <td>22700</td>\n",
       "      <td>1.740</td>\n",
       "      <td>76.0</td>\n",
       "      <td>1.72</td>\n",
       "      <td>14600</td>\n",
       "      <td>2</td>\n",
       "    </tr>\n",
       "    <tr>\n",
       "      <th>44</th>\n",
       "      <td>Greece</td>\n",
       "      <td>3.9</td>\n",
       "      <td>22.1</td>\n",
       "      <td>10.30</td>\n",
       "      <td>30.7</td>\n",
       "      <td>28700</td>\n",
       "      <td>0.673</td>\n",
       "      <td>80.4</td>\n",
       "      <td>1.48</td>\n",
       "      <td>26900</td>\n",
       "      <td>2</td>\n",
       "    </tr>\n",
       "    <tr>\n",
       "      <th>51</th>\n",
       "      <td>Hungary</td>\n",
       "      <td>6.0</td>\n",
       "      <td>81.8</td>\n",
       "      <td>7.33</td>\n",
       "      <td>76.5</td>\n",
       "      <td>22300</td>\n",
       "      <td>2.330</td>\n",
       "      <td>74.5</td>\n",
       "      <td>1.25</td>\n",
       "      <td>13100</td>\n",
       "      <td>2</td>\n",
       "    </tr>\n",
       "    <tr>\n",
       "      <th>56</th>\n",
       "      <td>Israel</td>\n",
       "      <td>4.6</td>\n",
       "      <td>35.0</td>\n",
       "      <td>7.63</td>\n",
       "      <td>32.9</td>\n",
       "      <td>29600</td>\n",
       "      <td>1.770</td>\n",
       "      <td>81.4</td>\n",
       "      <td>3.03</td>\n",
       "      <td>30600</td>\n",
       "      <td>2</td>\n",
       "    </tr>\n",
       "    <tr>\n",
       "      <th>64</th>\n",
       "      <td>Latvia</td>\n",
       "      <td>7.8</td>\n",
       "      <td>53.7</td>\n",
       "      <td>6.68</td>\n",
       "      <td>55.1</td>\n",
       "      <td>18300</td>\n",
       "      <td>-0.812</td>\n",
       "      <td>73.1</td>\n",
       "      <td>1.36</td>\n",
       "      <td>11300</td>\n",
       "      <td>2</td>\n",
       "    </tr>\n",
       "    <tr>\n",
       "      <th>65</th>\n",
       "      <td>Lebanon</td>\n",
       "      <td>10.3</td>\n",
       "      <td>35.8</td>\n",
       "      <td>7.03</td>\n",
       "      <td>60.2</td>\n",
       "      <td>16300</td>\n",
       "      <td>0.238</td>\n",
       "      <td>79.8</td>\n",
       "      <td>1.61</td>\n",
       "      <td>8860</td>\n",
       "      <td>2</td>\n",
       "    </tr>\n",
       "    <tr>\n",
       "      <th>66</th>\n",
       "      <td>Libya</td>\n",
       "      <td>16.6</td>\n",
       "      <td>65.6</td>\n",
       "      <td>3.88</td>\n",
       "      <td>42.1</td>\n",
       "      <td>29600</td>\n",
       "      <td>14.200</td>\n",
       "      <td>76.1</td>\n",
       "      <td>2.41</td>\n",
       "      <td>12100</td>\n",
       "      <td>2</td>\n",
       "    </tr>\n",
       "    <tr>\n",
       "      <th>67</th>\n",
       "      <td>Lithuania</td>\n",
       "      <td>6.1</td>\n",
       "      <td>65.3</td>\n",
       "      <td>7.04</td>\n",
       "      <td>67.2</td>\n",
       "      <td>21100</td>\n",
       "      <td>2.380</td>\n",
       "      <td>73.2</td>\n",
       "      <td>1.50</td>\n",
       "      <td>12000</td>\n",
       "      <td>2</td>\n",
       "    </tr>\n",
       "    <tr>\n",
       "      <th>71</th>\n",
       "      <td>Maldives</td>\n",
       "      <td>13.2</td>\n",
       "      <td>77.6</td>\n",
       "      <td>6.33</td>\n",
       "      <td>65.4</td>\n",
       "      <td>10500</td>\n",
       "      <td>2.880</td>\n",
       "      <td>77.9</td>\n",
       "      <td>2.23</td>\n",
       "      <td>7100</td>\n",
       "      <td>2</td>\n",
       "    </tr>\n",
       "    <tr>\n",
       "      <th>74</th>\n",
       "      <td>Mauritius</td>\n",
       "      <td>15.0</td>\n",
       "      <td>51.2</td>\n",
       "      <td>6.00</td>\n",
       "      <td>62.2</td>\n",
       "      <td>15900</td>\n",
       "      <td>1.130</td>\n",
       "      <td>73.4</td>\n",
       "      <td>1.57</td>\n",
       "      <td>8000</td>\n",
       "      <td>2</td>\n",
       "    </tr>\n",
       "    <tr>\n",
       "      <th>76</th>\n",
       "      <td>Montenegro</td>\n",
       "      <td>6.8</td>\n",
       "      <td>37.0</td>\n",
       "      <td>9.11</td>\n",
       "      <td>62.7</td>\n",
       "      <td>14000</td>\n",
       "      <td>1.600</td>\n",
       "      <td>76.4</td>\n",
       "      <td>1.77</td>\n",
       "      <td>6680</td>\n",
       "      <td>2</td>\n",
       "    </tr>\n",
       "    <tr>\n",
       "      <th>82</th>\n",
       "      <td>Panama</td>\n",
       "      <td>19.7</td>\n",
       "      <td>70.0</td>\n",
       "      <td>8.10</td>\n",
       "      <td>78.2</td>\n",
       "      <td>15400</td>\n",
       "      <td>2.590</td>\n",
       "      <td>77.8</td>\n",
       "      <td>2.62</td>\n",
       "      <td>8080</td>\n",
       "      <td>2</td>\n",
       "    </tr>\n",
       "    <tr>\n",
       "      <th>86</th>\n",
       "      <td>Poland</td>\n",
       "      <td>6.0</td>\n",
       "      <td>40.1</td>\n",
       "      <td>7.46</td>\n",
       "      <td>42.1</td>\n",
       "      <td>21800</td>\n",
       "      <td>1.660</td>\n",
       "      <td>76.3</td>\n",
       "      <td>1.41</td>\n",
       "      <td>12600</td>\n",
       "      <td>2</td>\n",
       "    </tr>\n",
       "    <tr>\n",
       "      <th>87</th>\n",
       "      <td>Portugal</td>\n",
       "      <td>3.9</td>\n",
       "      <td>29.9</td>\n",
       "      <td>11.00</td>\n",
       "      <td>37.4</td>\n",
       "      <td>27200</td>\n",
       "      <td>0.643</td>\n",
       "      <td>79.8</td>\n",
       "      <td>1.39</td>\n",
       "      <td>22500</td>\n",
       "      <td>2</td>\n",
       "    </tr>\n",
       "    <tr>\n",
       "      <th>92</th>\n",
       "      <td>Serbia</td>\n",
       "      <td>7.6</td>\n",
       "      <td>32.9</td>\n",
       "      <td>10.40</td>\n",
       "      <td>47.9</td>\n",
       "      <td>12700</td>\n",
       "      <td>5.880</td>\n",
       "      <td>74.7</td>\n",
       "      <td>1.40</td>\n",
       "      <td>5410</td>\n",
       "      <td>2</td>\n",
       "    </tr>\n",
       "    <tr>\n",
       "      <th>93</th>\n",
       "      <td>Slovak Republic</td>\n",
       "      <td>7.0</td>\n",
       "      <td>76.3</td>\n",
       "      <td>8.79</td>\n",
       "      <td>77.8</td>\n",
       "      <td>25200</td>\n",
       "      <td>0.485</td>\n",
       "      <td>75.5</td>\n",
       "      <td>1.43</td>\n",
       "      <td>16600</td>\n",
       "      <td>2</td>\n",
       "    </tr>\n",
       "    <tr>\n",
       "      <th>94</th>\n",
       "      <td>Slovenia</td>\n",
       "      <td>3.2</td>\n",
       "      <td>64.3</td>\n",
       "      <td>9.41</td>\n",
       "      <td>62.9</td>\n",
       "      <td>28700</td>\n",
       "      <td>-0.987</td>\n",
       "      <td>79.5</td>\n",
       "      <td>1.57</td>\n",
       "      <td>23400</td>\n",
       "      <td>2</td>\n",
       "    </tr>\n",
       "    <tr>\n",
       "      <th>97</th>\n",
       "      <td>South Korea</td>\n",
       "      <td>4.1</td>\n",
       "      <td>49.4</td>\n",
       "      <td>6.93</td>\n",
       "      <td>46.2</td>\n",
       "      <td>30400</td>\n",
       "      <td>3.160</td>\n",
       "      <td>80.1</td>\n",
       "      <td>1.23</td>\n",
       "      <td>22100</td>\n",
       "      <td>2</td>\n",
       "    </tr>\n",
       "    <tr>\n",
       "      <th>98</th>\n",
       "      <td>Spain</td>\n",
       "      <td>3.8</td>\n",
       "      <td>25.5</td>\n",
       "      <td>9.54</td>\n",
       "      <td>26.8</td>\n",
       "      <td>32500</td>\n",
       "      <td>0.160</td>\n",
       "      <td>81.9</td>\n",
       "      <td>1.37</td>\n",
       "      <td>30700</td>\n",
       "      <td>2</td>\n",
       "    </tr>\n",
       "    <tr>\n",
       "      <th>113</th>\n",
       "      <td>Uruguay</td>\n",
       "      <td>10.6</td>\n",
       "      <td>26.3</td>\n",
       "      <td>8.35</td>\n",
       "      <td>25.4</td>\n",
       "      <td>17100</td>\n",
       "      <td>4.910</td>\n",
       "      <td>76.4</td>\n",
       "      <td>2.08</td>\n",
       "      <td>11900</td>\n",
       "      <td>2</td>\n",
       "    </tr>\n",
       "  </tbody>\n",
       "</table>\n",
       "</div>"
      ],
      "text/plain": [
       "                    country  child_mort  exports  health  imports  income  \\\n",
       "3       Antigua and Barbuda        10.3     45.5    6.03     58.9   19100   \n",
       "7                   Bahamas        13.8     35.0    7.89     43.7   22900   \n",
       "8                   Bahrain         8.6     69.5    4.97     50.9   41100   \n",
       "10                 Barbados        14.2     39.5    7.97     48.7   15300   \n",
       "16   Bosnia and Herzegovina         6.9     29.7   11.10     51.3    9720   \n",
       "18                 Bulgaria        10.8     50.2    6.87     53.0   15300   \n",
       "24                    Chile         8.7     37.7    7.96     31.3   19400   \n",
       "30               Costa Rica        10.2     33.2   10.90     35.0   13000   \n",
       "32                  Croatia         5.5     37.6    7.76     38.1   20100   \n",
       "33           Czech Republic         3.4     66.0    7.88     62.9   28300   \n",
       "38                  Estonia         4.5     75.1    6.03     68.7   22700   \n",
       "44                   Greece         3.9     22.1   10.30     30.7   28700   \n",
       "51                  Hungary         6.0     81.8    7.33     76.5   22300   \n",
       "56                   Israel         4.6     35.0    7.63     32.9   29600   \n",
       "64                   Latvia         7.8     53.7    6.68     55.1   18300   \n",
       "65                  Lebanon        10.3     35.8    7.03     60.2   16300   \n",
       "66                    Libya        16.6     65.6    3.88     42.1   29600   \n",
       "67                Lithuania         6.1     65.3    7.04     67.2   21100   \n",
       "71                 Maldives        13.2     77.6    6.33     65.4   10500   \n",
       "74                Mauritius        15.0     51.2    6.00     62.2   15900   \n",
       "76               Montenegro         6.8     37.0    9.11     62.7   14000   \n",
       "82                   Panama        19.7     70.0    8.10     78.2   15400   \n",
       "86                   Poland         6.0     40.1    7.46     42.1   21800   \n",
       "87                 Portugal         3.9     29.9   11.00     37.4   27200   \n",
       "92                   Serbia         7.6     32.9   10.40     47.9   12700   \n",
       "93          Slovak Republic         7.0     76.3    8.79     77.8   25200   \n",
       "94                 Slovenia         3.2     64.3    9.41     62.9   28700   \n",
       "97              South Korea         4.1     49.4    6.93     46.2   30400   \n",
       "98                    Spain         3.8     25.5    9.54     26.8   32500   \n",
       "113                 Uruguay        10.6     26.3    8.35     25.4   17100   \n",
       "\n",
       "     inflation  life_expec  total_fer   gdpp  cluster_id  \n",
       "3        1.440        76.8       2.13  12200           2  \n",
       "7       -0.393        73.8       1.86  28000           2  \n",
       "8        7.440        76.0       2.16  20700           2  \n",
       "10       0.321        76.7       1.78  16000           2  \n",
       "16       1.400        76.8       1.31   4610           2  \n",
       "18       1.110        73.9       1.57   6840           2  \n",
       "24       8.960        79.1       1.88  12900           2  \n",
       "30       6.570        80.4       1.92   8200           2  \n",
       "32       0.821        76.3       1.55  13500           2  \n",
       "33      -1.430        77.5       1.51  19800           2  \n",
       "38       1.740        76.0       1.72  14600           2  \n",
       "44       0.673        80.4       1.48  26900           2  \n",
       "51       2.330        74.5       1.25  13100           2  \n",
       "56       1.770        81.4       3.03  30600           2  \n",
       "64      -0.812        73.1       1.36  11300           2  \n",
       "65       0.238        79.8       1.61   8860           2  \n",
       "66      14.200        76.1       2.41  12100           2  \n",
       "67       2.380        73.2       1.50  12000           2  \n",
       "71       2.880        77.9       2.23   7100           2  \n",
       "74       1.130        73.4       1.57   8000           2  \n",
       "76       1.600        76.4       1.77   6680           2  \n",
       "82       2.590        77.8       2.62   8080           2  \n",
       "86       1.660        76.3       1.41  12600           2  \n",
       "87       0.643        79.8       1.39  22500           2  \n",
       "92       5.880        74.7       1.40   5410           2  \n",
       "93       0.485        75.5       1.43  16600           2  \n",
       "94      -0.987        79.5       1.57  23400           2  \n",
       "97       3.160        80.1       1.23  22100           2  \n",
       "98       0.160        81.9       1.37  30700           2  \n",
       "113      4.910        76.4       2.08  11900           2  "
      ]
     },
     "execution_count": 78,
     "metadata": {},
     "output_type": "execute_result"
    }
   ],
   "source": [
    "c3"
   ]
  },
  {
   "cell_type": "code",
   "execution_count": 79,
   "metadata": {},
   "outputs": [],
   "source": [
    "#c4"
   ]
  },
  {
   "cell_type": "code",
   "execution_count": 80,
   "metadata": {},
   "outputs": [],
   "source": [
    "cls_child_mort = pd.DataFrame(c_data_km.groupby(['cluster_id']).child_mort.mean())\n",
    "cls_exports =    pd.DataFrame(c_data_km.groupby(['cluster_id']).exports.mean())\n",
    "cls_healtht =    pd.DataFrame(c_data_km.groupby(['cluster_id']).health.mean())\n",
    "cls_imports =    pd.DataFrame(c_data_km.groupby(['cluster_id']).imports.mean())\n",
    "cls_income =     pd.DataFrame(c_data_km.groupby(['cluster_id']).income.mean())\n",
    "cls_inflation=   pd.DataFrame(c_data_km.groupby(['cluster_id']).inflation.mean())\n",
    "cls_life_expec = pd.DataFrame(c_data_km.groupby(['cluster_id']).life_expec.mean())\n",
    "cls_total_fer =  pd.DataFrame(c_data_km.groupby(['cluster_id']).total_fer.mean())\n",
    "cls_gdpp =       pd.DataFrame(c_data_km.groupby(['cluster_id']).gdpp.mean())\n",
    "\n"
   ]
  },
  {
   "cell_type": "code",
   "execution_count": 81,
   "metadata": {},
   "outputs": [
    {
     "data": {
      "text/html": [
       "<div>\n",
       "<style scoped>\n",
       "    .dataframe tbody tr th:only-of-type {\n",
       "        vertical-align: middle;\n",
       "    }\n",
       "\n",
       "    .dataframe tbody tr th {\n",
       "        vertical-align: top;\n",
       "    }\n",
       "\n",
       "    .dataframe thead th {\n",
       "        text-align: right;\n",
       "    }\n",
       "</style>\n",
       "<table border=\"1\" class=\"dataframe\">\n",
       "  <thead>\n",
       "    <tr style=\"text-align: right;\">\n",
       "      <th></th>\n",
       "      <th>gdpp</th>\n",
       "    </tr>\n",
       "    <tr>\n",
       "      <th>cluster_id</th>\n",
       "      <th></th>\n",
       "    </tr>\n",
       "  </thead>\n",
       "  <tbody>\n",
       "    <tr>\n",
       "      <th>0</th>\n",
       "      <td>1002.612903</td>\n",
       "    </tr>\n",
       "    <tr>\n",
       "      <th>1</th>\n",
       "      <td>4356.758621</td>\n",
       "    </tr>\n",
       "    <tr>\n",
       "      <th>2</th>\n",
       "      <td>14909.333333</td>\n",
       "    </tr>\n",
       "  </tbody>\n",
       "</table>\n",
       "</div>"
      ],
      "text/plain": [
       "                    gdpp\n",
       "cluster_id              \n",
       "0            1002.612903\n",
       "1            4356.758621\n",
       "2           14909.333333"
      ]
     },
     "execution_count": 81,
     "metadata": {},
     "output_type": "execute_result"
    }
   ],
   "source": [
    "cls_gdpp"
   ]
  },
  {
   "cell_type": "markdown",
   "metadata": {},
   "source": [
    "### Mean of all features on groupby cluster ID."
   ]
  },
  {
   "cell_type": "code",
   "execution_count": 82,
   "metadata": {},
   "outputs": [
    {
     "data": {
      "text/html": [
       "<div>\n",
       "<style scoped>\n",
       "    .dataframe tbody tr th:only-of-type {\n",
       "        vertical-align: middle;\n",
       "    }\n",
       "\n",
       "    .dataframe tbody tr th {\n",
       "        vertical-align: top;\n",
       "    }\n",
       "\n",
       "    .dataframe thead th {\n",
       "        text-align: right;\n",
       "    }\n",
       "</style>\n",
       "<table border=\"1\" class=\"dataframe\">\n",
       "  <thead>\n",
       "    <tr style=\"text-align: right;\">\n",
       "      <th></th>\n",
       "      <th>cluster_id</th>\n",
       "      <th>child_mort</th>\n",
       "      <th>exports</th>\n",
       "      <th>health</th>\n",
       "      <th>imports</th>\n",
       "      <th>income</th>\n",
       "      <th>inflation</th>\n",
       "      <th>life_expec</th>\n",
       "      <th>total_fer</th>\n",
       "      <th>gdpp</th>\n",
       "    </tr>\n",
       "  </thead>\n",
       "  <tbody>\n",
       "    <tr>\n",
       "      <th>0</th>\n",
       "      <td>0</td>\n",
       "      <td>96.845161</td>\n",
       "      <td>29.577419</td>\n",
       "      <td>5.591613</td>\n",
       "      <td>41.958065</td>\n",
       "      <td>2335.516129</td>\n",
       "      <td>9.442419</td>\n",
       "      <td>59.329032</td>\n",
       "      <td>5.176129</td>\n",
       "      <td>1002.612903</td>\n",
       "    </tr>\n",
       "    <tr>\n",
       "      <th>1</th>\n",
       "      <td>1</td>\n",
       "      <td>28.103448</td>\n",
       "      <td>37.270690</td>\n",
       "      <td>5.878621</td>\n",
       "      <td>44.994828</td>\n",
       "      <td>9362.931034</td>\n",
       "      <td>8.176569</td>\n",
       "      <td>70.718966</td>\n",
       "      <td>2.569655</td>\n",
       "      <td>4356.758621</td>\n",
       "    </tr>\n",
       "    <tr>\n",
       "      <th>2</th>\n",
       "      <td>2</td>\n",
       "      <td>8.436667</td>\n",
       "      <td>48.626667</td>\n",
       "      <td>7.889000</td>\n",
       "      <td>51.406667</td>\n",
       "      <td>21474.000000</td>\n",
       "      <td>2.428967</td>\n",
       "      <td>77.050000</td>\n",
       "      <td>1.736667</td>\n",
       "      <td>14909.333333</td>\n",
       "    </tr>\n",
       "  </tbody>\n",
       "</table>\n",
       "</div>"
      ],
      "text/plain": [
       "   cluster_id  child_mort    exports    health    imports        income  \\\n",
       "0           0   96.845161  29.577419  5.591613  41.958065   2335.516129   \n",
       "1           1   28.103448  37.270690  5.878621  44.994828   9362.931034   \n",
       "2           2    8.436667  48.626667  7.889000  51.406667  21474.000000   \n",
       "\n",
       "   inflation  life_expec  total_fer          gdpp  \n",
       "0   9.442419   59.329032   5.176129   1002.612903  \n",
       "1   8.176569   70.718966   2.569655   4356.758621  \n",
       "2   2.428967   77.050000   1.736667  14909.333333  "
      ]
     },
     "execution_count": 82,
     "metadata": {},
     "output_type": "execute_result"
    }
   ],
   "source": [
    "mean_df = pd.concat([pd.Series([0,1,2]),cls_child_mort,cls_exports ,cls_healtht,cls_imports,cls_income,cls_inflation,cls_life_expec,cls_total_fer,cls_gdpp], axis=1)\n",
    "mean_df.rename(columns={0:'cluster_id'}, inplace=True)\n",
    "mean_df"
   ]
  },
  {
   "cell_type": "markdown",
   "metadata": {},
   "source": [
    "## Countries name\n",
    "## Country list in cluster 0. As we can see cluster 0 has countries name which belongs to poor developing countries. Cluster 0's countries direst need of aid."
   ]
  },
  {
   "cell_type": "code",
   "execution_count": 83,
   "metadata": {},
   "outputs": [
    {
     "data": {
      "text/plain": [
       "2                Angola\n",
       "13                Benin\n",
       "19         Burkina Faso\n",
       "21             Cameroon\n",
       "23                 Chad\n",
       "27              Comoros\n",
       "28     Congo, Dem. Rep.\n",
       "29          Congo, Rep.\n",
       "31        Cote d'Ivoire\n",
       "41               Gambia\n",
       "43                Ghana\n",
       "47               Guinea\n",
       "48        Guinea-Bissau\n",
       "50                Haiti\n",
       "60                Kenya\n",
       "61             Kiribati\n",
       "63                  Lao\n",
       "69           Madagascar\n",
       "70               Malawi\n",
       "72                 Mali\n",
       "73           Mauritania\n",
       "78           Mozambique\n",
       "80                Niger\n",
       "81             Pakistan\n",
       "91              Senegal\n",
       "101               Sudan\n",
       "104            Tanzania\n",
       "106                Togo\n",
       "111              Uganda\n",
       "117               Yemen\n",
       "118              Zambia\n",
       "Name: country, dtype: object"
      ]
     },
     "execution_count": 83,
     "metadata": {},
     "output_type": "execute_result"
    }
   ],
   "source": [
    "\n",
    "under_dev_countries =  c1['country']\n",
    "under_dev_countries"
   ]
  },
  {
   "cell_type": "code",
   "execution_count": 84,
   "metadata": {},
   "outputs": [],
   "source": [
    "#sns.countplot(mean_df,hue='cluster_id')\n",
    "# Let's create pie charts instead of a count plots\n",
    "def pie_chart(dataframe):\n",
    "    \"\"\"\n",
    "    creates a pie chart\n",
    "    input: dataframe with a 'category' as index and a numerical column\n",
    "    output: pie chart\n",
    "    \"\"\"\n",
    "    labels = dataframe.index.values\n",
    "    sizes = dataframe.values\n",
    "    \n",
    "       \n",
    "    fig1, ax1 = plt.subplots()\n",
    "    ax1.pie(sizes, labels=labels, autopct='%1.1f%%', shadow=True, startangle=90)\n",
    "    ax1.axis('equal')# Equal aspect ratio ensures that pie is drawn as a circle.\n",
    "    plt.title(dataframe)\n",
    "    plt.show()"
   ]
  },
  {
   "cell_type": "markdown",
   "metadata": {},
   "source": [
    "## Visualization cluster on the bases of summary of variables"
   ]
  },
  {
   "cell_type": "code",
   "execution_count": 85,
   "metadata": {},
   "outputs": [
    {
     "data": {
      "image/png": "[encoded data removed]",
      "text/plain": [
       "<Figure size 432x288 with 1 Axes>"
      ]
     },
     "metadata": {},
     "output_type": "display_data"
    },
    {
     "data": {
      "image/png": "[encoded data removed]",
      "text/plain": [
       "<Figure size 432x288 with 1 Axes>"
      ]
     },
     "metadata": {},
     "output_type": "display_data"
    },
    {
     "data": {
      "image/png": "[encoded data removed]",
      "text/plain": [
       "<Figure size 432x288 with 1 Axes>"
      ]
     },
     "metadata": {},
     "output_type": "display_data"
    },
    {
     "data": {
      "image/png": "[encoded data removed]",
      "text/plain": [
       "<Figure size 432x288 with 1 Axes>"
      ]
     },
     "metadata": {},
     "output_type": "display_data"
    },
    {
     "data": {
      "image/png": "[encoded data removed]",
      "text/plain": [
       "<Figure size 432x288 with 1 Axes>"
      ]
     },
     "metadata": {},
     "output_type": "display_data"
    },
    {
     "data": {
      "image/png": "[encoded data removed]",
      "text/plain": [
       "<Figure size 432x288 with 1 Axes>"
      ]
     },
     "metadata": {},
     "output_type": "display_data"
    },
    {
     "data": {
      "image/png": "[encoded data removed]",
      "text/plain": [
       "<Figure size 432x288 with 1 Axes>"
      ]
     },
     "metadata": {},
     "output_type": "display_data"
    },
    {
     "data": {
      "image/png": "[encoded data removed]",
      "text/plain": [
       "<Figure size 432x288 with 1 Axes>"
      ]
     },
     "metadata": {},
     "output_type": "display_data"
    },
    {
     "data": {
      "image/png": "[encoded data removed]",
      "text/plain": [
       "<Figure size 432x288 with 1 Axes>"
      ]
     },
     "metadata": {},
     "output_type": "display_data"
    }
   ],
   "source": [
    "\n",
    "pie_chart(mean_df['child_mort'])\n",
    "pie_chart(mean_df['exports'])\n",
    "pie_chart(mean_df['health'])\n",
    "pie_chart(mean_df['imports'])\n",
    "pie_chart(mean_df['income'])\n",
    "pie_chart(mean_df['inflation'])\n",
    "pie_chart(mean_df['life_expec'])\n",
    "pie_chart(mean_df['total_fer'])\n",
    "pie_chart(mean_df['gdpp'])"
   ]
  },
  {
   "cell_type": "code",
   "execution_count": 86,
   "metadata": {},
   "outputs": [
    {
     "data": {
      "text/plain": [
       "<matplotlib.axes._subplots.AxesSubplot at 0x2f6c078c208>"
      ]
     },
     "execution_count": 86,
     "metadata": {},
     "output_type": "execute_result"
    },
    {
     "data": {
      "image/png": "[encoded data removed]",
      "text/plain": [
       "<Figure size 432x288 with 1 Axes>"
      ]
     },
     "metadata": {
      "needs_background": "light"
     },
     "output_type": "display_data"
    }
   ],
   "source": [
    "sns.barplot(x=mean_df.cluster_id, y=mean_df.child_mort)"
   ]
  },
  {
   "cell_type": "code",
   "execution_count": 87,
   "metadata": {},
   "outputs": [
    {
     "data": {
      "text/plain": [
       "<matplotlib.axes._subplots.AxesSubplot at 0x2f6c06c69b0>"
      ]
     },
     "execution_count": 87,
     "metadata": {},
     "output_type": "execute_result"
    },
    {
     "data": {
      "image/png": "[encoded data removed]",
      "text/plain": [
       "<Figure size 432x288 with 1 Axes>"
      ]
     },
     "metadata": {
      "needs_background": "light"
     },
     "output_type": "display_data"
    }
   ],
   "source": [
    "sns.barplot(x=mean_df.cluster_id, y=mean_df.exports)"
   ]
  },
  {
   "cell_type": "code",
   "execution_count": 88,
   "metadata": {},
   "outputs": [
    {
     "data": {
      "text/plain": [
       "<matplotlib.axes._subplots.AxesSubplot at 0x2f6c0ff7470>"
      ]
     },
     "execution_count": 88,
     "metadata": {},
     "output_type": "execute_result"
    },
    {
     "data": {
      "image/png": "[encoded data removed]",
      "text/plain": [
       "<Figure size 432x288 with 1 Axes>"
      ]
     },
     "metadata": {
      "needs_background": "light"
     },
     "output_type": "display_data"
    }
   ],
   "source": [
    "sns.barplot(x=mean_df.cluster_id, y=mean_df.health)"
   ]
  },
  {
   "cell_type": "code",
   "execution_count": 89,
   "metadata": {},
   "outputs": [
    {
     "data": {
      "text/plain": [
       "<matplotlib.axes._subplots.AxesSubplot at 0x2f6bebba978>"
      ]
     },
     "execution_count": 89,
     "metadata": {},
     "output_type": "execute_result"
    },
    {
     "data": {
      "image/png": "[encoded data removed]",
      "text/plain": [
       "<Figure size 432x288 with 1 Axes>"
      ]
     },
     "metadata": {
      "needs_background": "light"
     },
     "output_type": "display_data"
    }
   ],
   "source": [
    "sns.barplot(x=mean_df.cluster_id, y=mean_df.imports)"
   ]
  },
  {
   "cell_type": "code",
   "execution_count": 90,
   "metadata": {},
   "outputs": [
    {
     "data": {
      "text/plain": [
       "<matplotlib.axes._subplots.AxesSubplot at 0x2f6beb768d0>"
      ]
     },
     "execution_count": 90,
     "metadata": {},
     "output_type": "execute_result"
    },
    {
     "data": {
      "image/png": "[encoded data removed]",
      "text/plain": [
       "<Figure size 432x288 with 1 Axes>"
      ]
     },
     "metadata": {
      "needs_background": "light"
     },
     "output_type": "display_data"
    }
   ],
   "source": [
    "sns.barplot(x=mean_df.cluster_id, y=mean_df.income)"
   ]
  },
  {
   "cell_type": "code",
   "execution_count": 91,
   "metadata": {},
   "outputs": [
    {
     "data": {
      "text/plain": [
       "<matplotlib.axes._subplots.AxesSubplot at 0x2f6beb79d30>"
      ]
     },
     "execution_count": 91,
     "metadata": {},
     "output_type": "execute_result"
    },
    {
     "data": {
      "image/png": "[encoded data removed]",
      "text/plain": [
       "<Figure size 432x288 with 1 Axes>"
      ]
     },
     "metadata": {
      "needs_background": "light"
     },
     "output_type": "display_data"
    }
   ],
   "source": [
    "sns.barplot(x=mean_df.cluster_id, y=mean_df.inflation)"
   ]
  },
  {
   "cell_type": "code",
   "execution_count": 92,
   "metadata": {},
   "outputs": [
    {
     "data": {
      "text/plain": [
       "<matplotlib.axes._subplots.AxesSubplot at 0x2f6c02ba390>"
      ]
     },
     "execution_count": 92,
     "metadata": {},
     "output_type": "execute_result"
    },
    {
     "data": {
      "image/png": "[encoded data removed]",
      "text/plain": [
       "<Figure size 432x288 with 1 Axes>"
      ]
     },
     "metadata": {
      "needs_background": "light"
     },
     "output_type": "display_data"
    }
   ],
   "source": [
    "sns.barplot(x=mean_df.cluster_id, y=mean_df.life_expec)"
   ]
  },
  {
   "cell_type": "code",
   "execution_count": 93,
   "metadata": {},
   "outputs": [
    {
     "data": {
      "text/plain": [
       "<matplotlib.axes._subplots.AxesSubplot at 0x2f6bef62438>"
      ]
     },
     "execution_count": 93,
     "metadata": {},
     "output_type": "execute_result"
    },
    {
     "data": {
      "image/png": "[encoded data removed]",
      "text/plain": [
       "<Figure size 432x288 with 1 Axes>"
      ]
     },
     "metadata": {
      "needs_background": "light"
     },
     "output_type": "display_data"
    }
   ],
   "source": [
    "sns.barplot(x=mean_df.cluster_id, y=mean_df.total_fer)"
   ]
  },
  {
   "cell_type": "code",
   "execution_count": 94,
   "metadata": {},
   "outputs": [
    {
     "data": {
      "text/plain": [
       "<matplotlib.axes._subplots.AxesSubplot at 0x2f6beb08278>"
      ]
     },
     "execution_count": 94,
     "metadata": {},
     "output_type": "execute_result"
    },
    {
     "data": {
      "image/png": "[encoded data removed]",
      "text/plain": [
       "<Figure size 432x288 with 1 Axes>"
      ]
     },
     "metadata": {
      "needs_background": "light"
     },
     "output_type": "display_data"
    }
   ],
   "source": [
    "sns.barplot(x=mean_df.cluster_id, y=mean_df.gdpp)"
   ]
  },
  {
   "cell_type": "markdown",
   "metadata": {},
   "source": [
    "#  Heirarchical Clustering"
   ]
  },
  {
   "cell_type": "code",
   "execution_count": 111,
   "metadata": {},
   "outputs": [
    {
     "data": {
      "image/png": "[encoded data removed]",
      "text/plain": [
       "<Figure size 432x288 with 1 Axes>"
      ]
     },
     "metadata": {
      "needs_background": "light"
     },
     "output_type": "display_data"
    }
   ],
   "source": [
    "h_cluster = linkage(n_df, method = \"complete\", metric='euclidean')\n",
    "dendrogram(h_cluster)\n",
    "plt.show()"
   ]
  },
  {
   "cell_type": "code",
   "execution_count": 96,
   "metadata": {},
   "outputs": [
    {
     "data": {
      "text/html": [
       "<div>\n",
       "<style scoped>\n",
       "    .dataframe tbody tr th:only-of-type {\n",
       "        vertical-align: middle;\n",
       "    }\n",
       "\n",
       "    .dataframe tbody tr th {\n",
       "        vertical-align: top;\n",
       "    }\n",
       "\n",
       "    .dataframe thead th {\n",
       "        text-align: right;\n",
       "    }\n",
       "</style>\n",
       "<table border=\"1\" class=\"dataframe\">\n",
       "  <thead>\n",
       "    <tr style=\"text-align: right;\">\n",
       "      <th></th>\n",
       "      <th>country</th>\n",
       "      <th>child_mort</th>\n",
       "      <th>exports</th>\n",
       "      <th>health</th>\n",
       "      <th>imports</th>\n",
       "      <th>income</th>\n",
       "      <th>inflation</th>\n",
       "      <th>life_expec</th>\n",
       "      <th>total_fer</th>\n",
       "      <th>gdpp</th>\n",
       "      <th>hc_clusterid</th>\n",
       "    </tr>\n",
       "  </thead>\n",
       "  <tbody>\n",
       "    <tr>\n",
       "      <th>0</th>\n",
       "      <td>Albania</td>\n",
       "      <td>16.6</td>\n",
       "      <td>28.0</td>\n",
       "      <td>6.55</td>\n",
       "      <td>48.6</td>\n",
       "      <td>9930</td>\n",
       "      <td>4.490</td>\n",
       "      <td>76.3</td>\n",
       "      <td>1.65</td>\n",
       "      <td>4090</td>\n",
       "      <td>0</td>\n",
       "    </tr>\n",
       "    <tr>\n",
       "      <th>1</th>\n",
       "      <td>Algeria</td>\n",
       "      <td>27.3</td>\n",
       "      <td>38.4</td>\n",
       "      <td>4.17</td>\n",
       "      <td>31.4</td>\n",
       "      <td>12900</td>\n",
       "      <td>16.100</td>\n",
       "      <td>76.5</td>\n",
       "      <td>2.89</td>\n",
       "      <td>4460</td>\n",
       "      <td>0</td>\n",
       "    </tr>\n",
       "    <tr>\n",
       "      <th>2</th>\n",
       "      <td>Angola</td>\n",
       "      <td>119.0</td>\n",
       "      <td>62.3</td>\n",
       "      <td>2.85</td>\n",
       "      <td>42.9</td>\n",
       "      <td>5900</td>\n",
       "      <td>22.400</td>\n",
       "      <td>60.1</td>\n",
       "      <td>6.16</td>\n",
       "      <td>3530</td>\n",
       "      <td>1</td>\n",
       "    </tr>\n",
       "    <tr>\n",
       "      <th>3</th>\n",
       "      <td>Antigua and Barbuda</td>\n",
       "      <td>10.3</td>\n",
       "      <td>45.5</td>\n",
       "      <td>6.03</td>\n",
       "      <td>58.9</td>\n",
       "      <td>19100</td>\n",
       "      <td>1.440</td>\n",
       "      <td>76.8</td>\n",
       "      <td>2.13</td>\n",
       "      <td>12200</td>\n",
       "      <td>0</td>\n",
       "    </tr>\n",
       "    <tr>\n",
       "      <th>4</th>\n",
       "      <td>Argentina</td>\n",
       "      <td>14.5</td>\n",
       "      <td>18.9</td>\n",
       "      <td>8.10</td>\n",
       "      <td>16.0</td>\n",
       "      <td>18700</td>\n",
       "      <td>20.900</td>\n",
       "      <td>75.8</td>\n",
       "      <td>2.37</td>\n",
       "      <td>10300</td>\n",
       "      <td>0</td>\n",
       "    </tr>\n",
       "    <tr>\n",
       "      <th>5</th>\n",
       "      <td>Armenia</td>\n",
       "      <td>18.1</td>\n",
       "      <td>20.8</td>\n",
       "      <td>4.40</td>\n",
       "      <td>45.3</td>\n",
       "      <td>6700</td>\n",
       "      <td>7.770</td>\n",
       "      <td>73.3</td>\n",
       "      <td>1.69</td>\n",
       "      <td>3220</td>\n",
       "      <td>0</td>\n",
       "    </tr>\n",
       "    <tr>\n",
       "      <th>6</th>\n",
       "      <td>Azerbaijan</td>\n",
       "      <td>39.2</td>\n",
       "      <td>54.3</td>\n",
       "      <td>5.88</td>\n",
       "      <td>20.7</td>\n",
       "      <td>16000</td>\n",
       "      <td>13.800</td>\n",
       "      <td>69.1</td>\n",
       "      <td>1.92</td>\n",
       "      <td>5840</td>\n",
       "      <td>0</td>\n",
       "    </tr>\n",
       "    <tr>\n",
       "      <th>7</th>\n",
       "      <td>Bahamas</td>\n",
       "      <td>13.8</td>\n",
       "      <td>35.0</td>\n",
       "      <td>7.89</td>\n",
       "      <td>43.7</td>\n",
       "      <td>22900</td>\n",
       "      <td>-0.393</td>\n",
       "      <td>73.8</td>\n",
       "      <td>1.86</td>\n",
       "      <td>28000</td>\n",
       "      <td>2</td>\n",
       "    </tr>\n",
       "    <tr>\n",
       "      <th>8</th>\n",
       "      <td>Bahrain</td>\n",
       "      <td>8.6</td>\n",
       "      <td>69.5</td>\n",
       "      <td>4.97</td>\n",
       "      <td>50.9</td>\n",
       "      <td>41100</td>\n",
       "      <td>7.440</td>\n",
       "      <td>76.0</td>\n",
       "      <td>2.16</td>\n",
       "      <td>20700</td>\n",
       "      <td>2</td>\n",
       "    </tr>\n",
       "    <tr>\n",
       "      <th>9</th>\n",
       "      <td>Bangladesh</td>\n",
       "      <td>49.4</td>\n",
       "      <td>16.0</td>\n",
       "      <td>3.52</td>\n",
       "      <td>21.8</td>\n",
       "      <td>2440</td>\n",
       "      <td>7.140</td>\n",
       "      <td>70.4</td>\n",
       "      <td>2.33</td>\n",
       "      <td>758</td>\n",
       "      <td>0</td>\n",
       "    </tr>\n",
       "  </tbody>\n",
       "</table>\n",
       "</div>"
      ],
      "text/plain": [
       "               country  child_mort  exports  health  imports  income  \\\n",
       "0              Albania        16.6     28.0    6.55     48.6    9930   \n",
       "1              Algeria        27.3     38.4    4.17     31.4   12900   \n",
       "2               Angola       119.0     62.3    2.85     42.9    5900   \n",
       "3  Antigua and Barbuda        10.3     45.5    6.03     58.9   19100   \n",
       "4            Argentina        14.5     18.9    8.10     16.0   18700   \n",
       "5              Armenia        18.1     20.8    4.40     45.3    6700   \n",
       "6           Azerbaijan        39.2     54.3    5.88     20.7   16000   \n",
       "7              Bahamas        13.8     35.0    7.89     43.7   22900   \n",
       "8              Bahrain         8.6     69.5    4.97     50.9   41100   \n",
       "9           Bangladesh        49.4     16.0    3.52     21.8    2440   \n",
       "\n",
       "   inflation  life_expec  total_fer   gdpp  hc_clusterid  \n",
       "0      4.490        76.3       1.65   4090             0  \n",
       "1     16.100        76.5       2.89   4460             0  \n",
       "2     22.400        60.1       6.16   3530             1  \n",
       "3      1.440        76.8       2.13  12200             0  \n",
       "4     20.900        75.8       2.37  10300             0  \n",
       "5      7.770        73.3       1.69   3220             0  \n",
       "6     13.800        69.1       1.92   5840             0  \n",
       "7     -0.393        73.8       1.86  28000             2  \n",
       "8      7.440        76.0       2.16  20700             2  \n",
       "9      7.140        70.4       2.33    758             0  "
      ]
     },
     "execution_count": 96,
     "metadata": {},
     "output_type": "execute_result"
    }
   ],
   "source": [
    "h_clusterCut = pd.Series(cut_tree(h_cluster, n_clusters=3).reshape(-1 ,))\n",
    "hc_data = pd.concat([c_data, h_clusterCut], axis =1)\n",
    "hc_data.rename(columns={0:'hc_clusterid'}, inplace=True)\n",
    "hc_data.head(10)"
   ]
  },
  {
   "cell_type": "code",
   "execution_count": 97,
   "metadata": {},
   "outputs": [],
   "source": [
    "hcls_child_mort = pd.DataFrame(hc_data.groupby(['hc_clusterid']).child_mort.mean())\n",
    "hcls_exports =    pd.DataFrame(hc_data.groupby(['hc_clusterid']).exports.mean())\n",
    "hcls_healtht =    pd.DataFrame(hc_data.groupby(['hc_clusterid']).health.mean())\n",
    "hcls_imports =    pd.DataFrame(hc_data.groupby(['hc_clusterid']).imports.mean())\n",
    "hcls_income =     pd.DataFrame(hc_data.groupby(['hc_clusterid']).income.mean())\n",
    "hcls_inflation=   pd.DataFrame(hc_data.groupby(['hc_clusterid']).inflation.mean())\n",
    "hcls_life_expec = pd.DataFrame(hc_data.groupby(['hc_clusterid']).life_expec.mean())\n",
    "hcls_total_fer =  pd.DataFrame(hc_data.groupby(['hc_clusterid']).total_fer.mean())\n",
    "hcls_gdpp =       pd.DataFrame(hc_data.groupby(['hc_clusterid']).gdpp.mean())\n",
    "\n"
   ]
  },
  {
   "cell_type": "code",
   "execution_count": 98,
   "metadata": {},
   "outputs": [
    {
     "data": {
      "text/html": [
       "<div>\n",
       "<style scoped>\n",
       "    .dataframe tbody tr th:only-of-type {\n",
       "        vertical-align: middle;\n",
       "    }\n",
       "\n",
       "    .dataframe tbody tr th {\n",
       "        vertical-align: top;\n",
       "    }\n",
       "\n",
       "    .dataframe thead th {\n",
       "        text-align: right;\n",
       "    }\n",
       "</style>\n",
       "<table border=\"1\" class=\"dataframe\">\n",
       "  <thead>\n",
       "    <tr style=\"text-align: right;\">\n",
       "      <th></th>\n",
       "      <th>hc_clusterid</th>\n",
       "      <th>child_mort</th>\n",
       "      <th>exports</th>\n",
       "      <th>health</th>\n",
       "      <th>imports</th>\n",
       "      <th>income</th>\n",
       "      <th>inflation</th>\n",
       "      <th>life_expec</th>\n",
       "      <th>total_fer</th>\n",
       "      <th>gdpp</th>\n",
       "    </tr>\n",
       "  </thead>\n",
       "  <tbody>\n",
       "    <tr>\n",
       "      <th>0</th>\n",
       "      <td>0</td>\n",
       "      <td>27.628571</td>\n",
       "      <td>36.675325</td>\n",
       "      <td>6.286364</td>\n",
       "      <td>45.218182</td>\n",
       "      <td>10245.584416</td>\n",
       "      <td>7.458299</td>\n",
       "      <td>71.368831</td>\n",
       "      <td>2.503506</td>\n",
       "      <td>5170.805195</td>\n",
       "    </tr>\n",
       "    <tr>\n",
       "      <th>1</th>\n",
       "      <td>1</td>\n",
       "      <td>101.365385</td>\n",
       "      <td>30.961538</td>\n",
       "      <td>5.533462</td>\n",
       "      <td>42.326923</td>\n",
       "      <td>2098.500000</td>\n",
       "      <td>8.765192</td>\n",
       "      <td>58.292308</td>\n",
       "      <td>5.387308</td>\n",
       "      <td>946.961538</td>\n",
       "    </tr>\n",
       "    <tr>\n",
       "      <th>2</th>\n",
       "      <td>2</td>\n",
       "      <td>7.650000</td>\n",
       "      <td>56.775000</td>\n",
       "      <td>7.690625</td>\n",
       "      <td>54.393750</td>\n",
       "      <td>26012.500000</td>\n",
       "      <td>2.352562</td>\n",
       "      <td>77.587500</td>\n",
       "      <td>1.797500</td>\n",
       "      <td>19267.500000</td>\n",
       "    </tr>\n",
       "  </tbody>\n",
       "</table>\n",
       "</div>"
      ],
      "text/plain": [
       "   hc_clusterid  child_mort    exports    health    imports        income  \\\n",
       "0             0   27.628571  36.675325  6.286364  45.218182  10245.584416   \n",
       "1             1  101.365385  30.961538  5.533462  42.326923   2098.500000   \n",
       "2             2    7.650000  56.775000  7.690625  54.393750  26012.500000   \n",
       "\n",
       "   inflation  life_expec  total_fer          gdpp  \n",
       "0   7.458299   71.368831   2.503506   5170.805195  \n",
       "1   8.765192   58.292308   5.387308    946.961538  \n",
       "2   2.352562   77.587500   1.797500  19267.500000  "
      ]
     },
     "execution_count": 98,
     "metadata": {},
     "output_type": "execute_result"
    }
   ],
   "source": [
    "mean_hdf = pd.concat([pd.Series([0,1,2]),hcls_child_mort,hcls_exports,hcls_healtht,hcls_imports,hcls_income,hcls_inflation,hcls_life_expec,hcls_total_fer,hcls_gdpp], axis=1)\n",
    "mean_hdf.rename(columns={0:'hc_clusterid'}, inplace=True)\n",
    "mean_hdf.head(10) "
   ]
  },
  {
   "cell_type": "markdown",
   "metadata": {},
   "source": [
    "## Country list in cluster 1. As we can see cluster 1 has countries name which belongs to poor devloping countries. Cluster 1's countries direst need of aids.\n"
   ]
  },
  {
   "cell_type": "code",
   "execution_count": 99,
   "metadata": {},
   "outputs": [
    {
     "data": {
      "text/plain": [
       "2                Angola\n",
       "13                Benin\n",
       "19         Burkina Faso\n",
       "21             Cameroon\n",
       "23                 Chad\n",
       "27              Comoros\n",
       "28     Congo, Dem. Rep.\n",
       "29          Congo, Rep.\n",
       "31        Cote d'Ivoire\n",
       "41               Gambia\n",
       "43                Ghana\n",
       "47               Guinea\n",
       "48        Guinea-Bissau\n",
       "50                Haiti\n",
       "60                Kenya\n",
       "69           Madagascar\n",
       "70               Malawi\n",
       "72                 Mali\n",
       "73           Mauritania\n",
       "78           Mozambique\n",
       "80                Niger\n",
       "91              Senegal\n",
       "104            Tanzania\n",
       "106                Togo\n",
       "111              Uganda\n",
       "118              Zambia\n",
       "Name: country, dtype: object"
      ]
     },
     "execution_count": 99,
     "metadata": {},
     "output_type": "execute_result"
    }
   ],
   "source": [
    "## Country list in cluster 1. As we can see cluster 1 has countries name which belongs to poor devloping \n",
    "### countries. Cluster 1's countries direst need of aids.\n",
    "\n",
    "hc_under_dev_countries = hc_data.loc[hc_data['hc_clusterid'] == 1, 'country' ]\n",
    "hc_under_dev_countries"
   ]
  },
  {
   "cell_type": "markdown",
   "metadata": {},
   "source": [
    "## Visualization cluster on the bases of summary of variables"
   ]
  },
  {
   "cell_type": "code",
   "execution_count": 100,
   "metadata": {},
   "outputs": [
    {
     "data": {
      "text/plain": [
       "<matplotlib.axes._subplots.AxesSubplot at 0x2f6c07c5278>"
      ]
     },
     "execution_count": 100,
     "metadata": {},
     "output_type": "execute_result"
    },
    {
     "data": {
      "image/png": "[encoded data removed]",
      "text/plain": [
       "<Figure size 432x288 with 1 Axes>"
      ]
     },
     "metadata": {
      "needs_background": "light"
     },
     "output_type": "display_data"
    }
   ],
   "source": [
    "sns.barplot(x=mean_hdf.hc_clusterid, y=mean_hdf.child_mort)"
   ]
  },
  {
   "cell_type": "code",
   "execution_count": 101,
   "metadata": {},
   "outputs": [
    {
     "data": {
      "text/plain": [
       "<matplotlib.axes._subplots.AxesSubplot at 0x2f6c0630b38>"
      ]
     },
     "execution_count": 101,
     "metadata": {},
     "output_type": "execute_result"
    },
    {
     "data": {
      "image/png": "[encoded data removed]",
      "text/plain": [
       "<Figure size 432x288 with 1 Axes>"
      ]
     },
     "metadata": {
      "needs_background": "light"
     },
     "output_type": "display_data"
    }
   ],
   "source": [
    "sns.barplot(x=mean_hdf.hc_clusterid, y=mean_hdf.exports)\n"
   ]
  },
  {
   "cell_type": "code",
   "execution_count": 102,
   "metadata": {},
   "outputs": [
    {
     "data": {
      "text/plain": [
       "<matplotlib.axes._subplots.AxesSubplot at 0x2f6c0347470>"
      ]
     },
     "execution_count": 102,
     "metadata": {},
     "output_type": "execute_result"
    },
    {
     "data": {
      "image/png": "[encoded data removed]",
      "text/plain": [
       "<Figure size 432x288 with 1 Axes>"
      ]
     },
     "metadata": {
      "needs_background": "light"
     },
     "output_type": "display_data"
    }
   ],
   "source": [
    "sns.barplot(x=mean_hdf.hc_clusterid, y=mean_hdf.health)\n"
   ]
  },
  {
   "cell_type": "code",
   "execution_count": 103,
   "metadata": {},
   "outputs": [
    {
     "data": {
      "text/plain": [
       "<matplotlib.axes._subplots.AxesSubplot at 0x2f6c0316dd8>"
      ]
     },
     "execution_count": 103,
     "metadata": {},
     "output_type": "execute_result"
    },
    {
     "data": {
      "image/png": "[encoded data removed]",
      "text/plain": [
       "<Figure size 432x288 with 1 Axes>"
      ]
     },
     "metadata": {
      "needs_background": "light"
     },
     "output_type": "display_data"
    }
   ],
   "source": [
    "sns.barplot(x=mean_hdf.hc_clusterid, y=mean_hdf.imports)\n"
   ]
  },
  {
   "cell_type": "code",
   "execution_count": 104,
   "metadata": {},
   "outputs": [
    {
     "data": {
      "text/plain": [
       "<matplotlib.axes._subplots.AxesSubplot at 0x2f6c085f908>"
      ]
     },
     "execution_count": 104,
     "metadata": {},
     "output_type": "execute_result"
    },
    {
     "data": {
      "image/png": "[encoded data removed]",
      "text/plain": [
       "<Figure size 432x288 with 1 Axes>"
      ]
     },
     "metadata": {
      "needs_background": "light"
     },
     "output_type": "display_data"
    }
   ],
   "source": [
    "sns.barplot(x=mean_hdf.hc_clusterid, y=mean_hdf.income)\n"
   ]
  },
  {
   "cell_type": "code",
   "execution_count": 105,
   "metadata": {},
   "outputs": [
    {
     "data": {
      "text/plain": [
       "<matplotlib.axes._subplots.AxesSubplot at 0x2f6c06ee278>"
      ]
     },
     "execution_count": 105,
     "metadata": {},
     "output_type": "execute_result"
    },
    {
     "data": {
      "image/png": "[encoded data removed]",
      "text/plain": [
       "<Figure size 432x288 with 1 Axes>"
      ]
     },
     "metadata": {
      "needs_background": "light"
     },
     "output_type": "display_data"
    }
   ],
   "source": [
    "sns.barplot(x=mean_hdf.hc_clusterid, y=mean_hdf.inflation)\n"
   ]
  },
  {
   "cell_type": "code",
   "execution_count": 106,
   "metadata": {},
   "outputs": [
    {
     "data": {
      "text/plain": [
       "<matplotlib.axes._subplots.AxesSubplot at 0x2f6c07e4f98>"
      ]
     },
     "execution_count": 106,
     "metadata": {},
     "output_type": "execute_result"
    },
    {
     "data": {
      "image/png": "[encoded data removed]",
      "text/plain": [
       "<Figure size 432x288 with 1 Axes>"
      ]
     },
     "metadata": {
      "needs_background": "light"
     },
     "output_type": "display_data"
    }
   ],
   "source": [
    "sns.barplot(x=mean_hdf.hc_clusterid, y=mean_hdf.life_expec)\n"
   ]
  },
  {
   "cell_type": "code",
   "execution_count": 107,
   "metadata": {},
   "outputs": [
    {
     "data": {
      "text/plain": [
       "<matplotlib.axes._subplots.AxesSubplot at 0x2f6beab14a8>"
      ]
     },
     "execution_count": 107,
     "metadata": {},
     "output_type": "execute_result"
    },
    {
     "data": {
      "image/png": "[encoded data removed]",
      "text/plain": [
       "<Figure size 432x288 with 1 Axes>"
      ]
     },
     "metadata": {
      "needs_background": "light"
     },
     "output_type": "display_data"
    }
   ],
   "source": [
    "sns.barplot(x=mean_hdf.hc_clusterid, y=mean_hdf.total_fer)\n"
   ]
  },
  {
   "cell_type": "code",
   "execution_count": 108,
   "metadata": {},
   "outputs": [
    {
     "data": {
      "text/plain": [
       "<matplotlib.axes._subplots.AxesSubplot at 0x2f6c0767cf8>"
      ]
     },
     "execution_count": 108,
     "metadata": {},
     "output_type": "execute_result"
    },
    {
     "data": {
      "image/png": "[encoded data removed]",
      "text/plain": [
       "<Figure size 432x288 with 1 Axes>"
      ]
     },
     "metadata": {
      "needs_background": "light"
     },
     "output_type": "display_data"
    }
   ],
   "source": [
    "sns.barplot(x=mean_hdf.hc_clusterid, y=mean_hdf.gdpp)"
   ]
  },
  {
   "cell_type": "code",
   "execution_count": null,
   "metadata": {},
   "outputs": [],
   "source": []
  },
  {
   "cell_type": "code",
   "execution_count": null,
   "metadata": {},
   "outputs": [],
   "source": []
  }
 ],
 "metadata": {
  "kernelspec": {
   "display_name": "Python 3",
   "language": "python",
   "name": "python3"
  },
  "language_info": {
   "codemirror_mode": {
    "name": "ipython",
    "version": 3
   },
   "file_extension": ".py",
   "mimetype": "text/x-python",
   "name": "python",
   "nbconvert_exporter": "python",
   "pygments_lexer": "ipython3",
   "version": "3.8.3"
  }
 },
 "nbformat": 4,
 "nbformat_minor": 2
}
